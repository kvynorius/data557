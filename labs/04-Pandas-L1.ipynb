{
 "cells": [
  {
   "cell_type": "markdown",
   "metadata": {},
   "source": [
    "# Pandas\n",
    "---\n",
    "\n",
    "In this Lab, we are going to go through the Nobel prize data in detail, incorporating all the tools we have learned about pandas. We wil use these tools to explore the dataset and hopefully generate interesting questions in our mind that might be able to be answered by further analysis of this dataset or by accessing others. "
   ]
  },
  {
   "cell_type": "markdown",
   "metadata": {},
   "source": [
    "### Read the data in\n",
    "Note: if you do not have the data locally, pandas can read in from a remote URL. e.g. `pd.read_csv('https://raw.githubusercontent.com/alexandercbooth/data557/master/data/nobeldata.csv')`"
   ]
  },
  {
   "cell_type": "markdown",
   "metadata": {},
   "source": [
    "### Metadata\n",
    "Let's explore some of the global properties of this dataset.\n",
    "1. What is the size of the dataset (rows/columns)?\n",
    "2. What are the types of the columns and how many non missing values do they have?\n",
    "3. Do the columns each represent something that cannot be further broken down?\n",
    "3. Does any cleaning need to happen?\n",
    "4. View the first/last 10 rows\n",
    "5. Get the basic descriptive stats"
   ]
  },
  {
   "cell_type": "markdown",
   "metadata": {},
   "source": [
    "### Group properties by selection and groupby\n",
    "Now let's explore the group properties. \n",
    "\n",
    "Using ETL (selection), answer the following:\n",
    "1. How many prizes have been won by women?\n",
    "2. How many prizes have women won in each category?\n",
    "3. How many prizes have been won by each country (coutry of death, to be specific)?\n",
    "4. How many prizes have been won by each country, by each gender?\n",
    "\n",
    "Now use groupby to answer the same questions. "
   ]
  }
 ],
 "metadata": {
  "kernelspec": {
   "display_name": "Python [Root]",
   "language": "python",
   "name": "Python [Root]"
  },
  "language_info": {
   "codemirror_mode": {
    "name": "ipython",
    "version": 3
   },
   "file_extension": ".py",
   "mimetype": "text/x-python",
   "name": "python",
   "nbconvert_exporter": "python",
   "pygments_lexer": "ipython3",
   "version": "3.5.1"
  }
 },
 "nbformat": 4,
 "nbformat_minor": 0
}
