{
 "cells": [
  {
   "cell_type": "markdown",
   "metadata": {
    "nbpresent": {
     "id": "fa123e02-7131-427e-93af-b0f4048182f9"
    }
   },
   "source": [
    "# Lab 1\n",
    ">## Goals\n",
    "- get comfortable with Jupyter\n",
    "- apply what we have learned to a familiar dataset\n",
    "    - loops\n",
    "    - functions\n",
    "    - data structures (tuples, lists and dictionaries)\n",
    "- produce the same final dictionary from lecture\n",
    "- answer the questions: \n",
    "    1. How many times does Trump say Hillary is crooked?\n",
    "    2. How many times does trump say the system is rigged?"
   ]
  },
  {
   "cell_type": "markdown",
   "metadata": {
    "nbpresent": {
     "id": "929fc841-6815-4ce0-b039-98c35f04dd60"
    }
   },
   "source": [
    "## Data\n",
    "```('New Hampshire Union Leader', 'highly unethical', 'wont survive', None)\n",
    "('Hillary Clinton', 'Crooked', 'Crooked', None)\n",
    "('The. System.', 'Rigged', 'rigged', 'Very very unfair!')\n",
    "('New Hampshire, Union Leader', 'kicked out of the ABC news debate like a dog', None, None)\n",
    "('The system', 'allowed Crooked Hillary to get away with murder', None, None)\n",
    "('Hillary clinton', 'Crooked', None, None)\n",
    "('The System', 'rigged', 'rigged', None)\n",
    "('Hi.Llary Clin,ton', 'Crooked', 'not a talented person or politician', 'Crooked')\n",
    "('New Hampshire Union leader', 'failing', None, None)```"
   ]
  },
  {
   "cell_type": "markdown",
   "metadata": {
    "nbpresent": {
     "id": "a0f04e51-1589-4f61-8652-c80a3ec5b6f0"
    }
   },
   "source": [
    "### Load data as a list of tuples"
   ]
  },
  {
   "cell_type": "markdown",
   "metadata": {
    "nbpresent": {
     "id": "f7d78d3e-c0c1-4060-a67e-41b242773f2c"
    }
   },
   "source": [
    "### Change data to list of lists\n",
    ">Hint: use `list()` and iterate over list"
   ]
  },
  {
   "cell_type": "markdown",
   "metadata": {
    "nbpresent": {
     "id": "f5ea621e-03fd-49f1-828c-10a28bb95124"
    }
   },
   "source": [
    "### Remove all NA's \n",
    "> ideas: \n",
    "- `.remove()` method repeatedly (bad idea)\n",
    "- create a function to count the NA's and remove them (better idea)\n",
    "- use `filter()` (best)"
   ]
  },
  {
   "cell_type": "markdown",
   "metadata": {
    "nbpresent": {
     "id": "21e57656-0cfe-49f7-926b-12e82ff16a10"
    }
   },
   "source": [
    "### Standardize the keys (or future keys)\n",
    ">Hint: \n",
    "- use the function `fixString()` from lecture\n",
    "- iterate over the first element of each list in full list"
   ]
  },
  {
   "cell_type": "markdown",
   "metadata": {
    "nbpresent": {
     "id": "bfa8c577-7bf1-4f54-93f2-a5692ed642fa"
    }
   },
   "source": [
    "### Standardize the values (or future values) -- make the tweets all lower case\n",
    ">Hint: \n",
    "- use list comprehension and iterate over full list\n",
    "- use `.lower()` method"
   ]
  },
  {
   "cell_type": "markdown",
   "metadata": {
    "nbpresent": {
     "id": "3f520ed8-b7e5-4415-89ea-7d3d4ef8a882"
    }
   },
   "source": [
    "### Make list of dictionaries\n",
    "> hint: \n",
    "- use first element of list as key and remaining elements as values\n",
    "- loop over full list and apply"
   ]
  },
  {
   "cell_type": "markdown",
   "metadata": {
    "nbpresent": {
     "id": "ad632515-4a4d-4a76-b94b-264632896068"
    }
   },
   "source": [
    "### Make final dictionary\n",
    ">Hint: use code from lecture"
   ]
  },
  {
   "cell_type": "markdown",
   "metadata": {
    "nbpresent": {
     "id": "cd7c85e2-99dd-4b0f-bb84-182c64305e4d"
    }
   },
   "source": [
    "### How many tweets say the system is rigged?"
   ]
  },
  {
   "cell_type": "markdown",
   "metadata": {
    "nbpresent": {
     "id": "b59e8c63-b33e-4133-94f9-f7f8f2a89e04"
    }
   },
   "source": [
    "### How many tweets say Hillary is crooked?"
   ]
  }
 ],
 "metadata": {
  "anaconda-cloud": {},
  "kernelspec": {
   "display_name": "Python [Root]",
   "language": "python",
   "name": "Python [Root]"
  },
  "language_info": {
   "codemirror_mode": {
    "name": "ipython",
    "version": 3
   },
   "file_extension": ".py",
   "mimetype": "text/x-python",
   "name": "python",
   "nbconvert_exporter": "python",
   "pygments_lexer": "ipython3",
   "version": "3.5.1"
  },
  "nbpresent": {
   "slides": {
    "0323e8a8-46b6-4fc4-b9d9-1be012a88575": {
     "id": "0323e8a8-46b6-4fc4-b9d9-1be012a88575",
     "prev": "a48fec49-da06-4c1f-aa69-6aa174f8c711",
     "regions": {
      "9e2a91d2-3b2f-4d03-857c-a9ad5ec08aa9": {
       "attrs": {
        "height": 0.8,
        "width": 0.8,
        "x": 0.1,
        "y": 0.1
       },
       "content": {
        "cell": "2ba46d36-8fb7-4bef-8802-5365c1a074d6",
        "part": "whole"
       },
       "id": "9e2a91d2-3b2f-4d03-857c-a9ad5ec08aa9"
      }
     }
    },
    "0bb65922-fb15-433b-b221-c3de8607f5d8": {
     "id": "0bb65922-fb15-433b-b221-c3de8607f5d8",
     "prev": null,
     "regions": {
      "28feca97-ec57-42d2-ac61-58a02a060a1b": {
       "attrs": {
        "height": 0.8,
        "width": 0.8,
        "x": 0.1,
        "y": 0.1
       },
       "content": {
        "cell": "fa123e02-7131-427e-93af-b0f4048182f9",
        "part": "whole"
       },
       "id": "28feca97-ec57-42d2-ac61-58a02a060a1b"
      }
     }
    },
    "0bc63a51-8c70-4925-882a-3f9785c34329": {
     "id": "0bc63a51-8c70-4925-882a-3f9785c34329",
     "prev": "9f952c79-491d-46da-a3b9-95f01ed659dc",
     "regions": {
      "949bd6ed-cd32-4688-a58e-3ad12984fb97": {
       "attrs": {
        "height": 0.8,
        "width": 0.8,
        "x": 0.1,
        "y": 0.1
       },
       "content": {
        "cell": "08fcf2d9-c3bd-4cc8-b889-92c2de5ae3dd",
        "part": "whole"
       },
       "id": "949bd6ed-cd32-4688-a58e-3ad12984fb97"
      }
     }
    },
    "1602ae2e-c832-4666-a8b3-a9b0d6959ed0": {
     "id": "1602ae2e-c832-4666-a8b3-a9b0d6959ed0",
     "prev": "cade5c2d-edc6-4da7-8ee9-2783b9572adb",
     "regions": {
      "abdfa26c-ff53-4e1a-91c7-65b6b0f4810c": {
       "attrs": {
        "height": 0.8,
        "width": 0.8,
        "x": 0.1,
        "y": 0.1
       },
       "content": {
        "cell": "05ea72fa-e5bb-4a5c-912e-a36e5cae6224",
        "part": "whole"
       },
       "id": "abdfa26c-ff53-4e1a-91c7-65b6b0f4810c"
      }
     }
    },
    "16f90aea-f036-473c-9e0c-46a36c39d71a": {
     "id": "16f90aea-f036-473c-9e0c-46a36c39d71a",
     "prev": "0bb65922-fb15-433b-b221-c3de8607f5d8",
     "regions": {
      "547733f3-0d0a-4539-b8c3-b2bffd97159a": {
       "attrs": {
        "height": 0.8,
        "width": 0.8,
        "x": 0.1,
        "y": 0.1
       },
       "content": {
        "cell": "929fc841-6815-4ce0-b039-98c35f04dd60",
        "part": "whole"
       },
       "id": "547733f3-0d0a-4539-b8c3-b2bffd97159a"
      }
     }
    },
    "19288312-240c-48d3-af17-1e0f78e5659d": {
     "id": "19288312-240c-48d3-af17-1e0f78e5659d",
     "prev": "4564daea-fa87-498c-b59b-12d586e3a9eb",
     "regions": {
      "4bf1e7e2-fa55-4504-8eed-d555b1ef92e7": {
       "attrs": {
        "height": 0.8,
        "width": 0.8,
        "x": 0.1,
        "y": 0.1
       },
       "content": {
        "cell": "cd7c85e2-99dd-4b0f-bb84-182c64305e4d",
        "part": "whole"
       },
       "id": "4bf1e7e2-fa55-4504-8eed-d555b1ef92e7"
      }
     }
    },
    "1e2414ab-4a4d-45dd-81b8-eef7e9256dab": {
     "id": "1e2414ab-4a4d-45dd-81b8-eef7e9256dab",
     "prev": "1602ae2e-c832-4666-a8b3-a9b0d6959ed0",
     "regions": {
      "f25015ba-b810-470a-9646-ead7ba190738": {
       "attrs": {
        "height": 0.8,
        "width": 0.8,
        "x": 0.1,
        "y": 0.1
       },
       "content": {
        "cell": "3f520ed8-b7e5-4415-89ea-7d3d4ef8a882",
        "part": "whole"
       },
       "id": "f25015ba-b810-470a-9646-ead7ba190738"
      }
     }
    },
    "2d176097-26a7-45c4-bd36-04613936db0f": {
     "id": "2d176097-26a7-45c4-bd36-04613936db0f",
     "prev": "0bc63a51-8c70-4925-882a-3f9785c34329",
     "regions": {
      "daf01b62-48c2-47cf-8b2c-5470541e2601": {
       "attrs": {
        "height": 0.8,
        "width": 0.8,
        "x": 0.1,
        "y": 0.1
       },
       "content": {
        "cell": "b2a6fdac-fc13-4b1e-bff2-6a5f599cbbba",
        "part": "whole"
       },
       "id": "daf01b62-48c2-47cf-8b2c-5470541e2601"
      }
     }
    },
    "38ae043d-a67a-4e7c-a6ea-f81af681e906": {
     "id": "38ae043d-a67a-4e7c-a6ea-f81af681e906",
     "prev": "7cdcdd31-3e6a-46f5-82a2-8a283cadafc1",
     "regions": {
      "19f1f209-3dc3-4f68-be8d-165cb1e49c6e": {
       "attrs": {
        "height": 0.8,
        "width": 0.8,
        "x": 0.1,
        "y": 0.1
       },
       "content": {
        "cell": "53a0cb31-2e74-4871-bdc3-1f81e01de353",
        "part": "whole"
       },
       "id": "19f1f209-3dc3-4f68-be8d-165cb1e49c6e"
      }
     }
    },
    "4564daea-fa87-498c-b59b-12d586e3a9eb": {
     "id": "4564daea-fa87-498c-b59b-12d586e3a9eb",
     "prev": "b50f026c-e238-48f0-b613-2fca8afcf45a",
     "regions": {
      "095a2d80-aca7-4686-accd-f7b7f531af17": {
       "attrs": {
        "height": 0.8,
        "width": 0.8,
        "x": 0.1,
        "y": 0.1
       },
       "content": {
        "cell": "97a6a302-ce83-429d-b15c-fda016605b94",
        "part": "whole"
       },
       "id": "095a2d80-aca7-4686-accd-f7b7f531af17"
      }
     }
    },
    "608f38b1-4e62-4fbf-8527-4961e5b68545": {
     "id": "608f38b1-4e62-4fbf-8527-4961e5b68545",
     "prev": "aec3ac53-67c2-4033-9b44-498b63f59fe3",
     "regions": {
      "add6d0a5-817e-4963-b383-bfd169894e56": {
       "attrs": {
        "height": 0.8,
        "width": 0.8,
        "x": 0.1,
        "y": 0.1
       },
       "content": {
        "cell": "8a8c42f0-e4d0-4c49-9602-b28697980248",
        "part": "whole"
       },
       "id": "add6d0a5-817e-4963-b383-bfd169894e56"
      }
     }
    },
    "6a9169e0-b539-4ba4-82c8-468d893572c7": {
     "id": "6a9169e0-b539-4ba4-82c8-468d893572c7",
     "prev": "19288312-240c-48d3-af17-1e0f78e5659d",
     "regions": {
      "753570b9-c5d0-49d1-b91c-ecbdca219138": {
       "attrs": {
        "height": 0.8,
        "width": 0.8,
        "x": 0.1,
        "y": 0.1
       },
       "content": {
        "cell": "9b87a18f-44a6-4a85-a958-e0833f48c25c",
        "part": "whole"
       },
       "id": "753570b9-c5d0-49d1-b91c-ecbdca219138"
      }
     }
    },
    "7cdcdd31-3e6a-46f5-82a2-8a283cadafc1": {
     "id": "7cdcdd31-3e6a-46f5-82a2-8a283cadafc1",
     "prev": "6a9169e0-b539-4ba4-82c8-468d893572c7",
     "regions": {
      "92d1a171-7bc2-4814-8ced-aa5a8cc6f08e": {
       "attrs": {
        "height": 0.8,
        "width": 0.8,
        "x": 0.1,
        "y": 0.1
       },
       "content": {
        "cell": "b59e8c63-b33e-4133-94f9-f7f8f2a89e04",
        "part": "whole"
       },
       "id": "92d1a171-7bc2-4814-8ced-aa5a8cc6f08e"
      }
     }
    },
    "7ea2c4a9-1be3-41f5-ad72-7ca30b8d69df": {
     "id": "7ea2c4a9-1be3-41f5-ad72-7ca30b8d69df",
     "prev": "e53cd066-7e1c-4e9a-a931-5edd6ccc8eb0",
     "regions": {
      "eaf955d1-2e31-46a7-9472-49956579931f": {
       "attrs": {
        "height": 0.8,
        "width": 0.8,
        "x": 0.1,
        "y": 0.1
       },
       "content": {
        "cell": "37e349b7-e760-49d8-880d-3bf574be45f4",
        "part": "whole"
       },
       "id": "eaf955d1-2e31-46a7-9472-49956579931f"
      }
     }
    },
    "859f98c0-beb2-40c9-883f-2b2066798e04": {
     "id": "859f98c0-beb2-40c9-883f-2b2066798e04",
     "prev": "7ea2c4a9-1be3-41f5-ad72-7ca30b8d69df",
     "regions": {
      "45bb03fa-f689-4d75-b0e4-9c416f02e0ef": {
       "attrs": {
        "height": 0.8,
        "width": 0.8,
        "x": 0.1,
        "y": 0.1
       },
       "content": {
        "cell": "bfa8c577-7bf1-4f54-93f2-a5692ed642fa",
        "part": "whole"
       },
       "id": "45bb03fa-f689-4d75-b0e4-9c416f02e0ef"
      }
     }
    },
    "8925dce0-5197-4cef-882b-376ad7d4da5b": {
     "id": "8925dce0-5197-4cef-882b-376ad7d4da5b",
     "prev": "0323e8a8-46b6-4fc4-b9d9-1be012a88575",
     "regions": {
      "1d63870f-0ed3-4c66-a012-9802236d70ef": {
       "attrs": {
        "height": 0.8,
        "width": 0.8,
        "x": 0.1,
        "y": 0.1
       },
       "content": {
        "cell": "ad632515-4a4d-4a76-b94b-264632896068",
        "part": "whole"
       },
       "id": "1d63870f-0ed3-4c66-a012-9802236d70ef"
      }
     }
    },
    "9f952c79-491d-46da-a3b9-95f01ed659dc": {
     "id": "9f952c79-491d-46da-a3b9-95f01ed659dc",
     "prev": "ff1010b4-bd71-44b2-898d-4f1bcf457438",
     "regions": {
      "910254c4-6ac9-49b8-8429-db214de90318": {
       "attrs": {
        "height": 0.8,
        "width": 0.8,
        "x": 0.1,
        "y": 0.1
       },
       "content": {
        "cell": "14d73c1c-8c12-4b45-b1fc-e405838b89b7",
        "part": "whole"
       },
       "id": "910254c4-6ac9-49b8-8429-db214de90318"
      }
     }
    },
    "a48fec49-da06-4c1f-aa69-6aa174f8c711": {
     "id": "a48fec49-da06-4c1f-aa69-6aa174f8c711",
     "prev": "1e2414ab-4a4d-45dd-81b8-eef7e9256dab",
     "regions": {
      "b7a0ff97-a23b-4061-a41b-a860a3c1c94f": {
       "attrs": {
        "height": 0.8,
        "width": 0.8,
        "x": 0.1,
        "y": 0.1
       },
       "content": {
        "cell": "24eea77f-181c-4433-843d-5a657abdaf3b",
        "part": "whole"
       },
       "id": "b7a0ff97-a23b-4061-a41b-a860a3c1c94f"
      }
     }
    },
    "aec3ac53-67c2-4033-9b44-498b63f59fe3": {
     "id": "aec3ac53-67c2-4033-9b44-498b63f59fe3",
     "prev": "16f90aea-f036-473c-9e0c-46a36c39d71a",
     "regions": {
      "cae47013-31e3-4674-a8ea-c54055fbadd5": {
       "attrs": {
        "height": 0.8,
        "width": 0.8,
        "x": 0.1,
        "y": 0.1
       },
       "content": {
        "cell": "a0f04e51-1589-4f61-8652-c80a3ec5b6f0",
        "part": "whole"
       },
       "id": "cae47013-31e3-4674-a8ea-c54055fbadd5"
      }
     }
    },
    "b50f026c-e238-48f0-b613-2fca8afcf45a": {
     "id": "b50f026c-e238-48f0-b613-2fca8afcf45a",
     "prev": "8925dce0-5197-4cef-882b-376ad7d4da5b",
     "regions": {
      "0e5df3ce-eb11-4e85-a8b9-6f87d5e119c7": {
       "attrs": {
        "height": 0.8,
        "width": 0.8,
        "x": 0.1,
        "y": 0.1
       },
       "content": {
        "cell": "68d7518f-279c-43dd-815f-1103345fb6c6",
        "part": "whole"
       },
       "id": "0e5df3ce-eb11-4e85-a8b9-6f87d5e119c7"
      }
     }
    },
    "c7364f20-cfb2-49c0-9611-2996efa6a7d8": {
     "id": "c7364f20-cfb2-49c0-9611-2996efa6a7d8",
     "prev": "e4db2005-dab7-4514-a350-ba5a605d36ca",
     "regions": {
      "f3790653-55ab-43c6-943a-3bfa791410ff": {
       "attrs": {
        "height": 0.8,
        "width": 0.8,
        "x": 0.1,
        "y": 0.1
       },
       "content": {
        "cell": "f5ea621e-03fd-49f1-828c-10a28bb95124",
        "part": "whole"
       },
       "id": "f3790653-55ab-43c6-943a-3bfa791410ff"
      }
     }
    },
    "cade5c2d-edc6-4da7-8ee9-2783b9572adb": {
     "id": "cade5c2d-edc6-4da7-8ee9-2783b9572adb",
     "prev": "859f98c0-beb2-40c9-883f-2b2066798e04",
     "regions": {
      "11429763-0864-4eec-b90c-9f0453a11abc": {
       "attrs": {
        "height": 0.8,
        "width": 0.8,
        "x": 0.1,
        "y": 0.1
       },
       "content": {
        "cell": "1c80b7c5-a147-40af-96ff-0051bca9e0ca",
        "part": "whole"
       },
       "id": "11429763-0864-4eec-b90c-9f0453a11abc"
      }
     }
    },
    "e4db2005-dab7-4514-a350-ba5a605d36ca": {
     "id": "e4db2005-dab7-4514-a350-ba5a605d36ca",
     "prev": "f4f1985c-45b5-4896-b0e6-76a6f23bfe41",
     "regions": {
      "ba3b8d44-ad84-4f95-8a0c-3900d4aa20db": {
       "attrs": {
        "height": 0.8,
        "width": 0.8,
        "x": 0.1,
        "y": 0.1
       },
       "content": {
        "cell": "fcc6965f-18f2-48db-8553-ab92fc9fd7e5",
        "part": "whole"
       },
       "id": "ba3b8d44-ad84-4f95-8a0c-3900d4aa20db"
      }
     }
    },
    "e53cd066-7e1c-4e9a-a931-5edd6ccc8eb0": {
     "id": "e53cd066-7e1c-4e9a-a931-5edd6ccc8eb0",
     "prev": "2d176097-26a7-45c4-bd36-04613936db0f",
     "regions": {
      "c1adf5dc-bf18-4ea8-bae9-82643dbeeea4": {
       "attrs": {
        "height": 0.8,
        "width": 0.8,
        "x": 0.1,
        "y": 0.1
       },
       "content": {
        "cell": "21e57656-0cfe-49f7-926b-12e82ff16a10",
        "part": "whole"
       },
       "id": "c1adf5dc-bf18-4ea8-bae9-82643dbeeea4"
      }
     }
    },
    "f4f1985c-45b5-4896-b0e6-76a6f23bfe41": {
     "id": "f4f1985c-45b5-4896-b0e6-76a6f23bfe41",
     "prev": "608f38b1-4e62-4fbf-8527-4961e5b68545",
     "regions": {
      "29e1a78a-2af8-4a0f-a459-fbdf29dcb2dd": {
       "attrs": {
        "height": 0.8,
        "width": 0.8,
        "x": 0.1,
        "y": 0.1
       },
       "content": {
        "cell": "f7d78d3e-c0c1-4060-a67e-41b242773f2c",
        "part": "whole"
       },
       "id": "29e1a78a-2af8-4a0f-a459-fbdf29dcb2dd"
      }
     }
    },
    "ff1010b4-bd71-44b2-898d-4f1bcf457438": {
     "id": "ff1010b4-bd71-44b2-898d-4f1bcf457438",
     "prev": "c7364f20-cfb2-49c0-9611-2996efa6a7d8",
     "regions": {
      "836b4c7f-a241-4ac5-84bd-b0190c218166": {
       "attrs": {
        "height": 0.8,
        "width": 0.8,
        "x": 0.1,
        "y": 0.1
       },
       "content": {
        "cell": "1b3563ff-2f2e-46c8-80f4-452aa7e72956",
        "part": "whole"
       },
       "id": "836b4c7f-a241-4ac5-84bd-b0190c218166"
      }
     }
    }
   },
   "themes": {
    "default": "4275dea9-d8f5-4c23-96c8-7f9b2f5f07e5",
    "theme": {}
   }
  }
 },
 "nbformat": 4,
 "nbformat_minor": 0
}
