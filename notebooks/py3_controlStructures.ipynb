{
 "cells": [
  {
   "cell_type": "markdown",
   "metadata": {
    "nbpresent": {
     "id": "a8150711-2d87-41f9-bdf8-6859fa8f12c2"
    }
   },
   "source": [
    "# Control Structures + Functions\n",
    ">- Understand control structures\n",
    "    - For loop\n",
    "    - conditionals\n",
    "    - data structures + control structures = list/dictionary comprehensions\n",
    "- Create a function\n",
    "We will learn these ideas by cleaning a real world dataset.\n",
    "\n",
    ">Data is a subset taken from the New York Times interactive, [The 258 People, Places and Things Donald\n",
    "Trump Has Insulted on Twitter: A Complete List](http://www.nytimes.com/interactive/2016/01/28/upshot/donald-trump-twitter-insults.html)"
   ]
  },
  {
   "cell_type": "code",
   "execution_count": 2,
   "metadata": {
    "collapsed": true,
    "nbpresent": {
     "id": "0c2a71c1-8613-4a94-acc6-39c6b65fc8ca"
    }
   },
   "outputs": [],
   "source": [
    "data = {'Hi.Llary Clin,ton': ['Crooked',\n",
    "  'not a talented person or politician',\n",
    "  'Crooked'],\n",
    " 'Hillary Clinton': ['Crooked', 'Crooked'],\n",
    " 'Hillary clinton': ['Crooked'],\n",
    " 'New Hampshire Union Leader': ['highly unethical', 'wont survive'],\n",
    " 'New Hampshire Union leader': ['failing'],\n",
    " 'New Hampshire, Union Leader': ['kicked out of the ABC news debate like a dog'],\n",
    " 'The System': ['rigged', 'rigged'],\n",
    " 'The system': ['allowed Crooked Hillary to get away with murder'],\n",
    " 'The. System.': ['Rigged', 'rigged', 'Very very unfair!']}"
   ]
  },
  {
   "cell_type": "markdown",
   "metadata": {
    "nbpresent": {
     "id": "5ddff2e4-cb3e-4280-8931-0747cbbec05d"
    }
   },
   "source": [
    "## Better Learning Through Doing\n",
    ">Our data consists of a dictionary of a sample of Trump tweets -- specifically insults lobbed at Clinton, a NH newspaper and \"the system\". Notice, however, the keys are not standardized. In other words, there are three different ways Hillary is spelled, so if we want to examine the insults aimed at her, we would have to check each key. We will fix this and learn our objectives along the way. \n",
    "\n",
    "## Goal: \n",
    ">***One dictionary with one key each for Hillary, The system and New Hampshire Union Leader. This will involve combining these disparate keys.  ***\n",
    "\n",
    "First, we will learn about looping and conditionals. "
   ]
  },
  {
   "cell_type": "markdown",
   "metadata": {
    "nbpresent": {
     "id": "bf92caac-9f3f-473b-acdd-b02fc95bf592"
    }
   },
   "source": [
    "Instead of printing out an entry at a time by each key, let's loop over this."
   ]
  },
  {
   "cell_type": "code",
   "execution_count": 3,
   "metadata": {
    "collapsed": false,
    "nbpresent": {
     "id": "bd46ef45-f5b1-4160-b396-be85b8d6a9b2"
    }
   },
   "outputs": [
    {
     "name": "stdout",
     "output_type": "stream",
     "text": [
      "The keys are: ['New Hampshire Union Leader', 'New Hampshire, Union Leader', 'The System', 'Hillary clinton', 'New Hampshire Union leader', 'Hillary Clinton', 'The. System.', 'Hi.Llary Clin,ton', 'The system']\n"
     ]
    }
   ],
   "source": [
    "print(\"The keys are: %s\" % list(data.keys()))"
   ]
  },
  {
   "cell_type": "markdown",
   "metadata": {
    "nbpresent": {
     "id": "67e88c0c-abc5-426e-b704-b784631f4335"
    }
   },
   "source": [
    "Let's store these keys in a list."
   ]
  },
  {
   "cell_type": "code",
   "execution_count": 4,
   "metadata": {
    "collapsed": true,
    "nbpresent": {
     "id": "41f68f03-8a19-4979-88ff-0cf43da433b3"
    }
   },
   "outputs": [],
   "source": [
    "names = list(data.keys())"
   ]
  },
  {
   "cell_type": "code",
   "execution_count": 5,
   "metadata": {
    "collapsed": false,
    "nbpresent": {
     "id": "59de0611-7495-44b7-99f9-ba1785cd3455"
    }
   },
   "outputs": [
    {
     "name": "stdout",
     "output_type": "stream",
     "text": [
      "New Hampshire Union Leader ['highly unethical', 'wont survive']\n"
     ]
    }
   ],
   "source": [
    "print (names[0], data[names[0]]) # This is impractical!"
   ]
  },
  {
   "cell_type": "markdown",
   "metadata": {
    "nbpresent": {
     "id": "62230ef4-8beb-4747-a76f-cc02df6cbfa9"
    }
   },
   "source": [
    "## *Check your understanding*\n",
    "\n",
    "Print out the key-value pair for all iterations of \"the system\". It should look similar to above. "
   ]
  },
  {
   "cell_type": "markdown",
   "metadata": {
    "nbpresent": {
     "id": "393130da-f4a1-4000-afdb-b22e36783212"
    }
   },
   "source": [
    "The for loop will save us here. "
   ]
  },
  {
   "cell_type": "markdown",
   "metadata": {
    "nbpresent": {
     "id": "05c7b7ca-41e1-4269-812f-49431ea1e56b"
    }
   },
   "source": [
    "### Loops"
   ]
  },
  {
   "cell_type": "code",
   "execution_count": 8,
   "metadata": {
    "collapsed": false,
    "nbpresent": {
     "id": "1430ee6c-21d4-448b-a979-6317e32ea231"
    }
   },
   "outputs": [
    {
     "name": "stdout",
     "output_type": "stream",
     "text": [
      "New Hampshire Union Leader\n",
      "New Hampshire, Union Leader\n",
      "The System\n",
      "Hillary clinton\n",
      "New Hampshire Union leader\n",
      "Hillary Clinton\n",
      "The. System.\n",
      "Hi.Llary Clin,ton\n",
      "The system\n"
     ]
    }
   ],
   "source": [
    "for name in names: # 'name' is a variable and you can name it whatever you want. Best practices say we should make it meanignful!\n",
    "    print(name)"
   ]
  },
  {
   "cell_type": "markdown",
   "metadata": {
    "nbpresent": {
     "id": "c86197bc-2e16-4355-a728-158f7b9eaf1c"
    }
   },
   "source": [
    "Now we will repeat the individual combination, to include keys and values from our dict."
   ]
  },
  {
   "cell_type": "code",
   "execution_count": 9,
   "metadata": {
    "collapsed": false,
    "nbpresent": {
     "id": "e6cafcd1-1391-4e19-8120-216d9c216164"
    }
   },
   "outputs": [
    {
     "name": "stdout",
     "output_type": "stream",
     "text": [
      "New Hampshire Union Leader ['highly unethical', 'wont survive']\n",
      "New Hampshire, Union Leader ['kicked out of the ABC news debate like a dog']\n",
      "The System ['rigged', 'rigged']\n",
      "Hillary clinton ['Crooked']\n",
      "New Hampshire Union leader ['failing']\n",
      "Hillary Clinton ['Crooked', 'Crooked']\n",
      "The. System. ['Rigged', 'rigged', 'Very very unfair!']\n",
      "Hi.Llary Clin,ton ['Crooked', 'not a talented person or politician', 'Crooked']\n",
      "The system ['allowed Crooked Hillary to get away with murder']\n"
     ]
    }
   ],
   "source": [
    "for name in names:\n",
    "    print (name, data[name])"
   ]
  },
  {
   "cell_type": "markdown",
   "metadata": {
    "nbpresent": {
     "id": "1f83e9da-ae76-492f-9f88-5b9dd958c196"
    }
   },
   "source": [
    "Similarly we could iterate over position, instead of value -- index by position, should look familiar from slicing strings/lists."
   ]
  },
  {
   "cell_type": "code",
   "execution_count": 10,
   "metadata": {
    "collapsed": false,
    "nbpresent": {
     "id": "f8617f1d-3f30-49a9-aeeb-1adffa233108"
    }
   },
   "outputs": [
    {
     "name": "stdout",
     "output_type": "stream",
     "text": [
      "New Hampshire Union Leader ['highly unethical', 'wont survive']\n",
      "New Hampshire, Union Leader ['kicked out of the ABC news debate like a dog']\n",
      "The System ['rigged', 'rigged']\n",
      "Hillary clinton ['Crooked']\n",
      "New Hampshire Union leader ['failing']\n",
      "Hillary Clinton ['Crooked', 'Crooked']\n",
      "The. System. ['Rigged', 'rigged', 'Very very unfair!']\n",
      "Hi.Llary Clin,ton ['Crooked', 'not a talented person or politician', 'Crooked']\n",
      "The system ['allowed Crooked Hillary to get away with murder']\n"
     ]
    }
   ],
   "source": [
    "for i in range(len(names)):\n",
    "    print(names[i], data[names[i]])"
   ]
  },
  {
   "cell_type": "markdown",
   "metadata": {
    "nbpresent": {
     "id": "60dec839-abc4-4db6-812b-2fbb4fa29ba5"
    }
   },
   "source": [
    "## *Check your understanding*\n",
    "Now loop over the values in the data dictionary and print them out. "
   ]
  },
  {
   "cell_type": "markdown",
   "metadata": {
    "nbpresent": {
     "id": "44418ec8-1d9d-4b3c-abd8-b85a1afa7c1b"
    }
   },
   "source": [
    "Now that we understand the for loop. Let's use it to find specific data points -- those relating to \"the system\". For this we will need conditionals."
   ]
  },
  {
   "cell_type": "markdown",
   "metadata": {
    "nbpresent": {
     "id": "22103698-30f0-4d32-982a-681639811520"
    }
   },
   "source": [
    "### Conditionals"
   ]
  },
  {
   "cell_type": "code",
   "execution_count": 16,
   "metadata": {
    "collapsed": false,
    "nbpresent": {
     "id": "dd72ad35-c7dc-422d-a0d4-256c95edac93"
    }
   },
   "outputs": [
    {
     "name": "stdout",
     "output_type": "stream",
     "text": [
      "============\n",
      "============\n",
      "The System\n",
      "============\n",
      "============\n",
      "============\n",
      "The. System.\n",
      "============\n",
      "The system\n"
     ]
    }
   ],
   "source": [
    "for name in names:\n",
    "    if 'sys' in name.lower(): # Is this slice 'sys' in the key? If so, print it out. Notice the lower method!\n",
    "        print (name)\n",
    "    else:\n",
    "        print(12*\"=\")"
   ]
  },
  {
   "cell_type": "markdown",
   "metadata": {
    "nbpresent": {
     "id": "ae72934a-3f08-461f-9e40-d01ecd866070"
    }
   },
   "source": [
    "Now we can use this to subset our data. "
   ]
  },
  {
   "cell_type": "code",
   "execution_count": 17,
   "metadata": {
    "collapsed": false,
    "nbpresent": {
     "id": "991bb92e-9b2c-4145-bec1-f35b2d390cea"
    }
   },
   "outputs": [
    {
     "name": "stdout",
     "output_type": "stream",
     "text": [
      "The System ['rigged', 'rigged']\n",
      "The. System. ['Rigged', 'rigged', 'Very very unfair!']\n",
      "The system ['allowed Crooked Hillary to get away with murder']\n"
     ]
    }
   ],
   "source": [
    "for name in names:\n",
    "    if 'sys' in name.lower(): \n",
    "        print (name, data[name])"
   ]
  },
  {
   "cell_type": "markdown",
   "metadata": {
    "nbpresent": {
     "id": "8d2625c6-8f17-4a2d-bcb1-4de17765ee4c"
    }
   },
   "source": [
    "We can also do this for Hillary. "
   ]
  },
  {
   "cell_type": "code",
   "execution_count": 18,
   "metadata": {
    "collapsed": false,
    "nbpresent": {
     "id": "ddf524fe-93ce-4d19-b977-fffc05ce579f"
    }
   },
   "outputs": [
    {
     "name": "stdout",
     "output_type": "stream",
     "text": [
      "Hillary clinton ['Crooked']\n",
      "Hillary Clinton ['Crooked', 'Crooked']\n",
      "Hi.Llary Clin,ton ['Crooked', 'not a talented person or politician', 'Crooked']\n"
     ]
    }
   ],
   "source": [
    "for name in names:\n",
    "    if 'clin' in name.lower(): # Of course, if another key had the sequence 'clin' we would get that too. \n",
    "        print (name, data[name])"
   ]
  },
  {
   "cell_type": "markdown",
   "metadata": {
    "nbpresent": {
     "id": "15bc7420-91ea-40d1-ba2d-2a35bc930c8e"
    }
   },
   "source": [
    "## *Check your understanding*\n",
    "Try subsetting by the NH newspaper."
   ]
  },
  {
   "cell_type": "markdown",
   "metadata": {
    "nbpresent": {
     "id": "9e71264f-e29b-4a08-98a0-ad928feef6d7"
    }
   },
   "source": [
    "OK, now that we see there are multiple keys each for Hillary, the system and the NH newspaper, we want to combine them. We will need to standardize these keys to move forward. \n",
    "\n",
    "To standardize them, let's:\n",
    "* remove punctuation\n",
    "* make all lower case\n",
    "* remove blank spaces\n",
    "\n",
    "We know that for strings, we can use the `.remove()` method. We could chain a method for each of these bullets, but let's be smarter about it. I once heard that in programming, if ever you do something more than once, make a function for it."
   ]
  },
  {
   "cell_type": "code",
   "execution_count": 19,
   "metadata": {
    "collapsed": true,
    "nbpresent": {
     "id": "9da47651-c0f0-4a60-83bb-d943dbb3e6ad"
    }
   },
   "outputs": [],
   "source": [
    "def fixString(x): # We have named our function fixString -- remember to use only descriptive names. \n",
    "    '''Accepts a string and returns the string in lower case and without periods, commas, colons, semicolons, single blank spaces and parentheses.\n",
    "    Input: a string\n",
    "    Output: a cleaned string'''\n",
    "    return x.lower().replace('.', '').replace(',', '').replace(':', '').replace(';', '').replace(' ', '')"
   ]
  },
  {
   "cell_type": "code",
   "execution_count": 20,
   "metadata": {
    "collapsed": true,
    "nbpresent": {
     "id": "f3c25f60-4c3c-436b-af3a-c65597fc19a2"
    }
   },
   "outputs": [],
   "source": [
    "fixString?"
   ]
  },
  {
   "cell_type": "code",
   "execution_count": 21,
   "metadata": {
    "collapsed": false,
    "nbpresent": {
     "id": "41266519-c2a1-4164-a03b-6587206cafde"
    }
   },
   "outputs": [
    {
     "data": {
      "text/plain": [
       "'hillaryclinton'"
      ]
     },
     "execution_count": 21,
     "metadata": {},
     "output_type": "execute_result"
    }
   ],
   "source": [
    "fixString(\"Hi.Llary Clin,ton\") #Test it"
   ]
  },
  {
   "cell_type": "code",
   "execution_count": 22,
   "metadata": {
    "collapsed": false,
    "nbpresent": {
     "id": "2b0c661f-2c48-4e55-b516-a3e6a6d1d5f8"
    }
   },
   "outputs": [
    {
     "data": {
      "text/plain": [
       "'hillaryclinton'"
      ]
     },
     "execution_count": 22,
     "metadata": {},
     "output_type": "execute_result"
    }
   ],
   "source": [
    "fixString('Hillary:::Clint...on')"
   ]
  },
  {
   "cell_type": "markdown",
   "metadata": {
    "nbpresent": {
     "id": "43c9e0d1-ed10-4934-9798-0429ae9ae395"
    }
   },
   "source": [
    "## *Check your understanding*\n",
    "Create a function that changes the case to upper case and counts the length of the string. `len()` will be helpful here."
   ]
  },
  {
   "cell_type": "markdown",
   "metadata": {
    "nbpresent": {
     "id": "e8011ede-4349-4dc1-827c-0861d68b4bf1"
    }
   },
   "source": [
    "These are all consistent now. But remember, we dont want to do this for each key. We know lists are mutable so let's loop over our names list and apply our function. "
   ]
  },
  {
   "cell_type": "code",
   "execution_count": 23,
   "metadata": {
    "collapsed": false,
    "nbpresent": {
     "id": "fffb97f6-cdad-468a-98b3-22c7033dbe05"
    }
   },
   "outputs": [
    {
     "name": "stdout",
     "output_type": "stream",
     "text": [
      "newhampshireunionleader\n",
      "newhampshireunionleader\n",
      "thesystem\n",
      "hillaryclinton\n",
      "newhampshireunionleader\n",
      "hillaryclinton\n",
      "thesystem\n",
      "hillaryclinton\n",
      "thesystem\n"
     ]
    }
   ],
   "source": [
    "for name in names:\n",
    "    print(fixString(name)) # Looks good -- this is just printing it though, so let's actually mutate the list."
   ]
  },
  {
   "cell_type": "code",
   "execution_count": 24,
   "metadata": {
    "collapsed": false,
    "nbpresent": {
     "id": "5cd79dff-200d-465e-b724-d18a84e01995"
    }
   },
   "outputs": [],
   "source": [
    "for i in range(len(names)):\n",
    "    names[i] = fixString(names[i])"
   ]
  },
  {
   "cell_type": "code",
   "execution_count": 25,
   "metadata": {
    "collapsed": false,
    "nbpresent": {
     "id": "299e4de3-6bd8-483b-8545-3c8e43755565"
    }
   },
   "outputs": [
    {
     "data": {
      "text/plain": [
       "['newhampshireunionleader',\n",
       " 'newhampshireunionleader',\n",
       " 'thesystem',\n",
       " 'hillaryclinton',\n",
       " 'newhampshireunionleader',\n",
       " 'hillaryclinton',\n",
       " 'thesystem',\n",
       " 'hillaryclinton',\n",
       " 'thesystem']"
      ]
     },
     "execution_count": 25,
     "metadata": {},
     "output_type": "execute_result"
    }
   ],
   "source": [
    "names # All clean"
   ]
  },
  {
   "cell_type": "code",
   "execution_count": 28,
   "metadata": {
    "collapsed": false,
    "nbpresent": {
     "id": "527ab86e-c90c-4bf7-9843-8a98f109c2f7"
    }
   },
   "outputs": [
    {
     "name": "stdout",
     "output_type": "stream",
     "text": [
      "newhampshireunionleader ['highly unethical', 'wont survive']\n",
      "newhampshireunionleader ['kicked out of the ABC news debate like a dog']\n",
      "thesystem ['rigged', 'rigged']\n",
      "hillaryclinton ['Crooked']\n",
      "newhampshireunionleader ['failing']\n",
      "hillaryclinton ['Crooked', 'Crooked']\n",
      "thesystem ['Rigged', 'rigged', 'Very very unfair!']\n",
      "hillaryclinton ['Crooked', 'not a talented person or politician', 'Crooked']\n",
      "thesystem ['allowed Crooked Hillary to get away with murder']\n"
     ]
    }
   ],
   "source": [
    "for i, j in zip(names, data.values()): # Use a zip object here to combine and print\n",
    "    print (i,j)"
   ]
  },
  {
   "cell_type": "markdown",
   "metadata": {
    "nbpresent": {
     "id": "3a6a579c-bdd0-4a8a-ac7e-f49aadaf33fe"
    }
   },
   "source": [
    "This appears good, but we will also want to have the values be standardized to lower case. "
   ]
  },
  {
   "cell_type": "markdown",
   "metadata": {},
   "source": [
    "### List Comprehension"
   ]
  },
  {
   "cell_type": "code",
   "execution_count": 32,
   "metadata": {
    "collapsed": false
   },
   "outputs": [
    {
     "data": {
      "text/plain": [
       "['NEWHAMPSHIREUNIONLEADER',\n",
       " 'NEWHAMPSHIREUNIONLEADER',\n",
       " 'THESYSTEM',\n",
       " 'HILLARYCLINTON',\n",
       " 'NEWHAMPSHIREUNIONLEADER',\n",
       " 'HILLARYCLINTON',\n",
       " 'THESYSTEM',\n",
       " 'HILLARYCLINTON',\n",
       " 'THESYSTEM']"
      ]
     },
     "execution_count": 32,
     "metadata": {},
     "output_type": "execute_result"
    }
   ],
   "source": [
    "[j.upper() for j in names]"
   ]
  },
  {
   "cell_type": "code",
   "execution_count": 38,
   "metadata": {
    "collapsed": true,
    "nbpresent": {
     "id": "dfd266e6-bc2d-47b0-b5dd-9f2943635f88"
    }
   },
   "outputs": [],
   "source": [
    "cleanValues = []\n",
    "for i in data.values():\n",
    "    cleanValues.append([j.lower() for j in i])"
   ]
  },
  {
   "cell_type": "code",
   "execution_count": 39,
   "metadata": {
    "collapsed": false
   },
   "outputs": [
    {
     "data": {
      "text/plain": [
       "[['highly unethical', 'wont survive'],\n",
       " ['kicked out of the abc news debate like a dog'],\n",
       " ['rigged', 'rigged'],\n",
       " ['crooked'],\n",
       " ['failing'],\n",
       " ['crooked', 'crooked'],\n",
       " ['rigged', 'rigged', 'very very unfair!'],\n",
       " ['crooked', 'not a talented person or politician', 'crooked'],\n",
       " ['allowed crooked hillary to get away with murder']]"
      ]
     },
     "execution_count": 39,
     "metadata": {},
     "output_type": "execute_result"
    }
   ],
   "source": [
    "cleanValues"
   ]
  },
  {
   "cell_type": "markdown",
   "metadata": {
    "nbpresent": {
     "id": "8f62c43b-1dec-4f53-af80-1ee88cd720cf"
    }
   },
   "source": [
    "Now let's store this as a list of dictionaries -- note that at this point we cannot create a single dictionary since the values for each unique key have not been combined. "
   ]
  },
  {
   "cell_type": "code",
   "execution_count": 40,
   "metadata": {
    "collapsed": false,
    "nbpresent": {
     "id": "e3e8d375-f81c-4b35-8d09-77d039ff0913"
    }
   },
   "outputs": [
    {
     "name": "stdout",
     "output_type": "stream",
     "text": [
      "newhampshireunionleader ['highly unethical', 'wont survive']\n",
      "newhampshireunionleader ['kicked out of the abc news debate like a dog']\n",
      "thesystem ['rigged', 'rigged']\n",
      "hillaryclinton ['crooked']\n",
      "newhampshireunionleader ['failing']\n",
      "hillaryclinton ['crooked', 'crooked']\n",
      "thesystem ['rigged', 'rigged', 'very very unfair!']\n",
      "hillaryclinton ['crooked', 'not a talented person or politician', 'crooked']\n",
      "thesystem ['allowed crooked hillary to get away with murder']\n"
     ]
    }
   ],
   "source": [
    "dictList = []\n",
    "for i, j in zip(names, cleanValues):\n",
    "    print(i,j)\n",
    "    dictList.append({i:j})"
   ]
  },
  {
   "cell_type": "code",
   "execution_count": 41,
   "metadata": {
    "collapsed": false,
    "nbpresent": {
     "id": "e8e2f310-53c2-480c-8912-5127ae1cb681"
    }
   },
   "outputs": [
    {
     "data": {
      "text/plain": [
       "[{'newhampshireunionleader': ['highly unethical', 'wont survive']},\n",
       " {'newhampshireunionleader': ['kicked out of the abc news debate like a dog']},\n",
       " {'thesystem': ['rigged', 'rigged']},\n",
       " {'hillaryclinton': ['crooked']},\n",
       " {'newhampshireunionleader': ['failing']},\n",
       " {'hillaryclinton': ['crooked', 'crooked']},\n",
       " {'thesystem': ['rigged', 'rigged', 'very very unfair!']},\n",
       " {'hillaryclinton': ['crooked',\n",
       "   'not a talented person or politician',\n",
       "   'crooked']},\n",
       " {'thesystem': ['allowed crooked hillary to get away with murder']}]"
      ]
     },
     "execution_count": 41,
     "metadata": {},
     "output_type": "execute_result"
    }
   ],
   "source": [
    "dictList"
   ]
  },
  {
   "cell_type": "markdown",
   "metadata": {
    "nbpresent": {
     "id": "e4b23e2b-1ca3-4a6f-b673-e043f4df23b7"
    }
   },
   "source": [
    "As an aside, another way to loop is through what are called comprehensions. These exist for lists and dictionaries and are more compact and sometimes more readable. "
   ]
  },
  {
   "cell_type": "code",
   "execution_count": 43,
   "metadata": {
    "collapsed": false,
    "nbpresent": {
     "id": "dc6e8743-52e1-4e80-9814-bc052cf6d5f4"
    }
   },
   "outputs": [
    {
     "data": {
      "text/plain": [
       "[{'newhampshireunionleader': ['highly unethical', 'wont survive']},\n",
       " {'newhampshireunionleader': ['kicked out of the abc news debate like a dog']},\n",
       " {'thesystem': ['rigged', 'rigged']},\n",
       " {'hillaryclinton': ['crooked']},\n",
       " {'newhampshireunionleader': ['failing']},\n",
       " {'hillaryclinton': ['crooked', 'crooked']},\n",
       " {'thesystem': ['rigged', 'rigged', 'very very unfair!']},\n",
       " {'hillaryclinton': ['crooked',\n",
       "   'not a talented person or politician',\n",
       "   'crooked']},\n",
       " {'thesystem': ['allowed crooked hillary to get away with murder']}]"
      ]
     },
     "execution_count": 43,
     "metadata": {},
     "output_type": "execute_result"
    }
   ],
   "source": [
    "[{i:j} for i,j in zip(names, cleanValues)] # Produces the same list of dictionaries as the above for loop -- but in one line."
   ]
  },
  {
   "cell_type": "markdown",
   "metadata": {
    "nbpresent": {
     "id": "78701b27-e176-4cbc-a10d-d12aa79649d8"
    }
   },
   "source": [
    "Finally, we want to combine this list of dictionaries into one dictionary, where there are unique keys and combined values."
   ]
  },
  {
   "cell_type": "code",
   "execution_count": 44,
   "metadata": {
    "collapsed": false,
    "nbpresent": {
     "id": "8e4e4c4b-861d-419f-86bb-8635efdbd8b4"
    }
   },
   "outputs": [],
   "source": [
    "finalDict = {}\n",
    "for d in dictList:\n",
    "    for key, value in d.items():\n",
    "        finalDict.setdefault(key, []).extend(value)"
   ]
  },
  {
   "cell_type": "code",
   "execution_count": 45,
   "metadata": {
    "collapsed": false,
    "nbpresent": {
     "id": "188f61a1-b19f-4c26-9cae-78a41ea4cdbc"
    }
   },
   "outputs": [
    {
     "data": {
      "text/plain": [
       "{'hillaryclinton': ['crooked',\n",
       "  'crooked',\n",
       "  'crooked',\n",
       "  'crooked',\n",
       "  'not a talented person or politician',\n",
       "  'crooked'],\n",
       " 'newhampshireunionleader': ['highly unethical',\n",
       "  'wont survive',\n",
       "  'kicked out of the abc news debate like a dog',\n",
       "  'failing'],\n",
       " 'thesystem': ['rigged',\n",
       "  'rigged',\n",
       "  'rigged',\n",
       "  'rigged',\n",
       "  'very very unfair!',\n",
       "  'allowed crooked hillary to get away with murder']}"
      ]
     },
     "execution_count": 45,
     "metadata": {},
     "output_type": "execute_result"
    }
   ],
   "source": [
    "finalDict"
   ]
  },
  {
   "cell_type": "code",
   "execution_count": 46,
   "metadata": {
    "collapsed": false,
    "nbpresent": {
     "id": "6f800fdd-4bd7-4c82-a483-10b5fa0b0b79"
    }
   },
   "outputs": [
    {
     "data": {
      "text/plain": [
       "dict_keys(['thesystem', 'newhampshireunionleader', 'hillaryclinton'])"
      ]
     },
     "execution_count": 46,
     "metadata": {},
     "output_type": "execute_result"
    }
   ],
   "source": [
    "finalDict.keys()"
   ]
  },
  {
   "cell_type": "code",
   "execution_count": 47,
   "metadata": {
    "collapsed": false,
    "nbpresent": {
     "id": "65d3f4ef-5396-48e1-9608-3acd8b34c1e0"
    }
   },
   "outputs": [
    {
     "data": {
      "text/plain": [
       "dict_values([['rigged', 'rigged', 'rigged', 'rigged', 'very very unfair!', 'allowed crooked hillary to get away with murder'], ['highly unethical', 'wont survive', 'kicked out of the abc news debate like a dog', 'failing'], ['crooked', 'crooked', 'crooked', 'crooked', 'not a talented person or politician', 'crooked']])"
      ]
     },
     "execution_count": 47,
     "metadata": {},
     "output_type": "execute_result"
    }
   ],
   "source": [
    "finalDict.values()"
   ]
  },
  {
   "cell_type": "markdown",
   "metadata": {
    "nbpresent": {
     "id": "305bbf8e-9bc7-4dc3-b753-83c5576cafa1"
    }
   },
   "source": [
    "So, with our cleaned data. We can start to analyze it. "
   ]
  },
  {
   "cell_type": "code",
   "execution_count": 48,
   "metadata": {
    "collapsed": false,
    "nbpresent": {
     "id": "0788fa02-f128-4846-97c6-218b443ad5ef"
    }
   },
   "outputs": [
    {
     "data": {
      "text/plain": [
       "['crooked',\n",
       " 'crooked',\n",
       " 'crooked',\n",
       " 'crooked',\n",
       " 'not a talented person or politician',\n",
       " 'crooked']"
      ]
     },
     "execution_count": 48,
     "metadata": {},
     "output_type": "execute_result"
    }
   ],
   "source": [
    "finalDict['hillaryclinton']"
   ]
  },
  {
   "cell_type": "code",
   "execution_count": 49,
   "metadata": {
    "collapsed": false,
    "nbpresent": {
     "id": "d316d729-8643-459a-9e79-d6cb5929038f"
    }
   },
   "outputs": [
    {
     "data": {
      "text/plain": [
       "['rigged',\n",
       " 'rigged',\n",
       " 'rigged',\n",
       " 'rigged',\n",
       " 'very very unfair!',\n",
       " 'allowed crooked hillary to get away with murder']"
      ]
     },
     "execution_count": 49,
     "metadata": {},
     "output_type": "execute_result"
    }
   ],
   "source": [
    "finalDict['thesystem']"
   ]
  },
  {
   "cell_type": "markdown",
   "metadata": {
    "nbpresent": {
     "id": "5e4988ef-d209-4077-a1c6-d648e1942ee4"
    }
   },
   "source": [
    "How many times do we see rigged?"
   ]
  },
  {
   "cell_type": "code",
   "execution_count": 50,
   "metadata": {
    "collapsed": false,
    "nbpresent": {
     "id": "3d04aaa9-b745-456d-9a8f-00007d80e49a"
    },
    "scrolled": true
   },
   "outputs": [
    {
     "data": {
      "text/plain": [
       "4"
      ]
     },
     "execution_count": 50,
     "metadata": {},
     "output_type": "execute_result"
    }
   ],
   "source": [
    "finalDict['thesystem'].count('rigged')"
   ]
  }
 ],
 "metadata": {
  "anaconda-cloud": {},
  "kernelspec": {
   "display_name": "Python [Root]",
   "language": "python",
   "name": "Python [Root]"
  },
  "language_info": {
   "codemirror_mode": {
    "name": "ipython",
    "version": 3
   },
   "file_extension": ".py",
   "mimetype": "text/x-python",
   "name": "python",
   "nbconvert_exporter": "python",
   "pygments_lexer": "ipython3",
   "version": "3.5.1"
  },
  "nbpresent": {
   "slides": {
    "005b7907-3dd0-403d-adfa-d6780a7083a6": {
     "id": "005b7907-3dd0-403d-adfa-d6780a7083a6",
     "prev": "dcba8ae9-1f74-42fb-abd0-13cc7ef6ad3c",
     "regions": {
      "1712a2f8-cd0d-4326-9d31-6281b89db01f": {
       "attrs": {
        "height": 0.8,
        "width": 0.8,
        "x": 0.1,
        "y": 0.1
       },
       "content": {
        "cell": "e3e8d375-f81c-4b35-8d09-77d039ff0913",
        "part": "whole"
       },
       "id": "1712a2f8-cd0d-4326-9d31-6281b89db01f"
      }
     }
    },
    "02cbf61f-d364-4f37-8645-05bf4c9326a4": {
     "id": "02cbf61f-d364-4f37-8645-05bf4c9326a4",
     "prev": "5afaeda3-0816-4721-ab09-3b94ab4265c2",
     "regions": {
      "9c90e835-005c-405c-96dd-5a243b87926d": {
       "attrs": {
        "height": 0.8,
        "width": 0.8,
        "x": 0.1,
        "y": 0.1
       },
       "content": {
        "cell": "3a6a579c-bdd0-4a8a-ac7e-f49aadaf33fe",
        "part": "whole"
       },
       "id": "9c90e835-005c-405c-96dd-5a243b87926d"
      }
     }
    },
    "0c23d377-3f55-467b-8d35-f3c73a3241ad": {
     "id": "0c23d377-3f55-467b-8d35-f3c73a3241ad",
     "prev": "667fca52-d216-428c-ad0b-5698ae9a3675",
     "regions": {
      "14c2e60d-6c94-4b2b-8952-620d89f43b9a": {
       "attrs": {
        "height": 0.8,
        "width": 0.8,
        "x": 0.1,
        "y": 0.1
       },
       "content": {
        "cell": "1f83e9da-ae76-492f-9f88-5b9dd958c196",
        "part": "whole"
       },
       "id": "14c2e60d-6c94-4b2b-8952-620d89f43b9a"
      }
     }
    },
    "0c86026a-9ac5-44ab-afc4-a335bc5220f8": {
     "id": "0c86026a-9ac5-44ab-afc4-a335bc5220f8",
     "prev": "acd44efc-2f35-4652-924e-581a09ae0ed9",
     "regions": {
      "a5829f78-00f9-40fa-9577-080b60b66420": {
       "attrs": {
        "height": 0.8,
        "width": 0.8,
        "x": 0.1,
        "y": 0.1
       },
       "content": {
        "cell": "ddf524fe-93ce-4d19-b977-fffc05ce579f",
        "part": "whole"
       },
       "id": "a5829f78-00f9-40fa-9577-080b60b66420"
      }
     }
    },
    "1182dc3a-e14b-4f3f-ad41-06bbbcee6967": {
     "id": "1182dc3a-e14b-4f3f-ad41-06bbbcee6967",
     "prev": "76e143c4-9f51-49b5-b186-4b4c2f610e48",
     "regions": {
      "a4d74d8f-0a0b-4158-883b-3bd18599b521": {
       "attrs": {
        "height": 0.8,
        "width": 0.8,
        "x": 0.1,
        "y": 0.1
       },
       "content": {
        "cell": "f3c25f60-4c3c-436b-af3a-c65597fc19a2",
        "part": "whole"
       },
       "id": "a4d74d8f-0a0b-4158-883b-3bd18599b521"
      }
     }
    },
    "245b39b1-f080-4dc4-a74f-c3e20fd590e9": {
     "id": "245b39b1-f080-4dc4-a74f-c3e20fd590e9",
     "prev": "7f7f0beb-3ed2-4707-ae15-7e03b4d0915d",
     "regions": {
      "f69c37e5-3db0-4bae-9399-64bca93d0cdd": {
       "attrs": {
        "height": 0.8,
        "width": 0.8,
        "x": 0.1,
        "y": 0.1
       },
       "content": {
        "cell": "3d04aaa9-b745-456d-9a8f-00007d80e49a",
        "part": "whole"
       },
       "id": "f69c37e5-3db0-4bae-9399-64bca93d0cdd"
      }
     }
    },
    "2b99d5bf-00e2-48d2-9400-db85cc976f1d": {
     "id": "2b99d5bf-00e2-48d2-9400-db85cc976f1d",
     "prev": "8682eb46-1268-4c52-8421-9ccd50d4e4c3",
     "regions": {
      "f3b6dd4b-4cca-45ec-b4f6-99ce2fd06059": {
       "attrs": {
        "height": 0.8,
        "width": 0.8,
        "x": 0.1,
        "y": 0.1
       },
       "content": {
        "cell": "41f68f03-8a19-4979-88ff-0cf43da433b3",
        "part": "whole"
       },
       "id": "f3b6dd4b-4cca-45ec-b4f6-99ce2fd06059"
      }
     }
    },
    "30382703-4844-47bb-9f72-0358e445c884": {
     "id": "30382703-4844-47bb-9f72-0358e445c884",
     "prev": "bf486aaf-f826-41f9-909b-3b5e971305bc",
     "regions": {
      "9f5e3f79-d37d-41c6-bf9e-5c8e07834d92": {
       "attrs": {
        "height": 0.8,
        "width": 0.8,
        "x": 0.1,
        "y": 0.1
       },
       "content": {
        "cell": "62230ef4-8beb-4747-a76f-cc02df6cbfa9",
        "part": "whole"
       },
       "id": "9f5e3f79-d37d-41c6-bf9e-5c8e07834d92"
      }
     }
    },
    "373f9f78-81f0-4c15-9d23-6663de850a93": {
     "id": "373f9f78-81f0-4c15-9d23-6663de850a93",
     "prev": "57d69451-631f-46bd-8fd2-8f9ba1fee0f1",
     "regions": {
      "aa42f780-276e-4ecf-9228-da9704f89c67": {
       "attrs": {
        "height": 0.8,
        "width": 0.8,
        "x": 0.1,
        "y": 0.1
       },
       "content": {
        "cell": "299e4de3-6bd8-483b-8545-3c8e43755565",
        "part": "whole"
       },
       "id": "aa42f780-276e-4ecf-9228-da9704f89c67"
      }
     }
    },
    "3b75bda0-0ddc-4653-92d4-353a84ac890f": {
     "id": "3b75bda0-0ddc-4653-92d4-353a84ac890f",
     "prev": "cf1d4152-8885-49de-b178-18cbe3e3c041",
     "regions": {
      "478f4601-e829-4d14-a3d7-499a54c472d5": {
       "attrs": {
        "height": 0.8,
        "width": 0.8,
        "x": 0.1,
        "y": 0.1
       },
       "content": {
        "cell": "d316d729-8643-459a-9e79-d6cb5929038f",
        "part": "whole"
       },
       "id": "478f4601-e829-4d14-a3d7-499a54c472d5"
      }
     }
    },
    "3fd54868-e3ce-4c49-bcc2-d21b196e45d8": {
     "id": "3fd54868-e3ce-4c49-bcc2-d21b196e45d8",
     "prev": "b3ff6348-8adf-4d58-9350-87e25fe69123",
     "regions": {
      "ac45779f-e716-4cda-a1d2-ed2dc097b764": {
       "attrs": {
        "height": 0.8,
        "width": 0.8,
        "x": 0.1,
        "y": 0.1
       },
       "content": {
        "cell": "6f800fdd-4bd7-4c82-a483-10b5fa0b0b79",
        "part": "whole"
       },
       "id": "ac45779f-e716-4cda-a1d2-ed2dc097b764"
      }
     }
    },
    "42182d16-5425-468f-b45c-0f98787f3bd2": {
     "id": "42182d16-5425-468f-b45c-0f98787f3bd2",
     "prev": "0c86026a-9ac5-44ab-afc4-a335bc5220f8",
     "regions": {
      "f467be4d-0919-4784-84ad-a33cc413b801": {
       "attrs": {
        "height": 0.8,
        "width": 0.8,
        "x": 0.1,
        "y": 0.1
       },
       "content": {
        "cell": "15bc7420-91ea-40d1-ba2d-2a35bc930c8e",
        "part": "whole"
       },
       "id": "f467be4d-0919-4784-84ad-a33cc413b801"
      }
     }
    },
    "4249f722-8748-4f86-95f4-ee252065f974": {
     "id": "4249f722-8748-4f86-95f4-ee252065f974",
     "prev": "c628d33c-23b5-4253-a4aa-22fda1197075",
     "regions": {
      "5cbefefa-6dd9-411b-ad99-350d02c21c75": {
       "attrs": {
        "height": 0.8,
        "width": 0.8,
        "x": 0.1,
        "y": 0.1
       },
       "content": {
        "cell": "60dec839-abc4-4db6-812b-2fbb4fa29ba5",
        "part": "whole"
       },
       "id": "5cbefefa-6dd9-411b-ad99-350d02c21c75"
      }
     }
    },
    "4ab61a8b-eaf0-46d4-b243-63499723383d": {
     "id": "4ab61a8b-eaf0-46d4-b243-63499723383d",
     "prev": "4249f722-8748-4f86-95f4-ee252065f974",
     "regions": {
      "279ab2d2-e7b3-4147-8464-8af03afc412c": {
       "attrs": {
        "height": 0.8,
        "width": 0.8,
        "x": 0.1,
        "y": 0.1
       },
       "content": {
        "cell": "44418ec8-1d9d-4b3c-abd8-b85a1afa7c1b",
        "part": "whole"
       },
       "id": "279ab2d2-e7b3-4147-8464-8af03afc412c"
      }
     }
    },
    "4e0f53d3-62bf-45dd-8143-9bd8c1a7b737": {
     "id": "4e0f53d3-62bf-45dd-8143-9bd8c1a7b737",
     "prev": "f0c6740f-10c4-4d3d-807b-290959b0b0b1",
     "regions": {
      "bf970007-43d2-4083-a340-951a0f548186": {
       "attrs": {
        "height": 0.8,
        "width": 0.8,
        "x": 0.1,
        "y": 0.1
       },
       "content": {
        "cell": "bd46ef45-f5b1-4160-b396-be85b8d6a9b2",
        "part": "whole"
       },
       "id": "bf970007-43d2-4083-a340-951a0f548186"
      }
     }
    },
    "553b193e-5b72-46ff-b912-0a819b8ef95d": {
     "id": "553b193e-5b72-46ff-b912-0a819b8ef95d",
     "prev": "60907192-023b-4c45-92a4-1dd7d4cc5867",
     "regions": {
      "32261737-4230-43ed-ab39-dbea5ee07094": {
       "attrs": {
        "height": 0.8,
        "width": 0.8,
        "x": 0.1,
        "y": 0.1
       },
       "content": {
        "cell": "e8011ede-4349-4dc1-827c-0861d68b4bf1",
        "part": "whole"
       },
       "id": "32261737-4230-43ed-ab39-dbea5ee07094"
      }
     }
    },
    "5589a419-7b74-4c51-a33e-c1f79b670619": {
     "id": "5589a419-7b74-4c51-a33e-c1f79b670619",
     "prev": null,
     "regions": {
      "58096517-6c68-44ac-b801-8d45d5d29e8c": {
       "attrs": {
        "height": 0.8,
        "width": 0.8,
        "x": 0.1,
        "y": 0.1
       },
       "content": {
        "cell": "a8150711-2d87-41f9-bdf8-6859fa8f12c2",
        "part": "whole"
       },
       "id": "58096517-6c68-44ac-b801-8d45d5d29e8c"
      }
     }
    },
    "56e6af3f-385b-4aef-9a26-25e4f1618221": {
     "id": "56e6af3f-385b-4aef-9a26-25e4f1618221",
     "prev": "8f4ef954-8519-46f4-8047-7e5c250af01b",
     "regions": {
      "d8ce33e1-893c-47e2-8a29-45c81b9205dd": {
       "attrs": {
        "height": 0.8,
        "width": 0.8,
        "x": 0.1,
        "y": 0.1
       },
       "content": {
        "cell": "05c7b7ca-41e1-4269-812f-49431ea1e56b",
        "part": "whole"
       },
       "id": "d8ce33e1-893c-47e2-8a29-45c81b9205dd"
      }
     }
    },
    "57d69451-631f-46bd-8fd2-8f9ba1fee0f1": {
     "id": "57d69451-631f-46bd-8fd2-8f9ba1fee0f1",
     "prev": "f2952459-81c5-4a81-a09d-f1b556798dce",
     "regions": {
      "c703596f-16b3-489e-b62a-2e579eb0b154": {
       "attrs": {
        "height": 0.8,
        "width": 0.8,
        "x": 0.1,
        "y": 0.1
       },
       "content": {
        "cell": "5cd79dff-200d-465e-b724-d18a84e01995",
        "part": "whole"
       },
       "id": "c703596f-16b3-489e-b62a-2e579eb0b154"
      }
     }
    },
    "5afaeda3-0816-4721-ab09-3b94ab4265c2": {
     "id": "5afaeda3-0816-4721-ab09-3b94ab4265c2",
     "prev": "373f9f78-81f0-4c15-9d23-6663de850a93",
     "regions": {
      "740a64b8-847a-4375-a970-d2646be38d45": {
       "attrs": {
        "height": 0.8,
        "width": 0.8,
        "x": 0.1,
        "y": 0.1
       },
       "content": {
        "cell": "527ab86e-c90c-4bf7-9843-8a98f109c2f7",
        "part": "whole"
       },
       "id": "740a64b8-847a-4375-a970-d2646be38d45"
      }
     }
    },
    "60907192-023b-4c45-92a4-1dd7d4cc5867": {
     "id": "60907192-023b-4c45-92a4-1dd7d4cc5867",
     "prev": "e7d02135-c7ee-40ac-9eec-d17e95c47c02",
     "regions": {
      "4457f751-83ab-4e32-9f22-855abfca0b4b": {
       "attrs": {
        "height": 0.8,
        "width": 0.8,
        "x": 0.1,
        "y": 0.1
       },
       "content": {
        "cell": "43c9e0d1-ed10-4934-9798-0429ae9ae395",
        "part": "whole"
       },
       "id": "4457f751-83ab-4e32-9f22-855abfca0b4b"
      }
     }
    },
    "61111560-0210-434e-bcce-3df5e349528c": {
     "id": "61111560-0210-434e-bcce-3df5e349528c",
     "prev": "9f0e520d-2b88-4e1a-8cf9-3770c25ea8c9",
     "regions": {
      "601610e0-fcbd-4375-955d-9f4a920e1c8b": {
       "attrs": {
        "height": 0.8,
        "width": 0.8,
        "x": 0.1,
        "y": 0.1
       },
       "content": {
        "cell": "305bbf8e-9bc7-4dc3-b753-83c5576cafa1",
        "part": "whole"
       },
       "id": "601610e0-fcbd-4375-955d-9f4a920e1c8b"
      }
     }
    },
    "667fca52-d216-428c-ad0b-5698ae9a3675": {
     "id": "667fca52-d216-428c-ad0b-5698ae9a3675",
     "prev": "b0807edf-9256-4d2f-a0bc-3eba1549be09",
     "regions": {
      "ed946666-785d-4f0f-9a4b-fc8fcb6c55de": {
       "attrs": {
        "height": 0.8,
        "width": 0.8,
        "x": 0.1,
        "y": 0.1
       },
       "content": {
        "cell": "e6cafcd1-1391-4e19-8120-216d9c216164",
        "part": "whole"
       },
       "id": "ed946666-785d-4f0f-9a4b-fc8fcb6c55de"
      }
     }
    },
    "67996fd7-3e67-43af-a601-4b02b0c0e2d8": {
     "id": "67996fd7-3e67-43af-a601-4b02b0c0e2d8",
     "prev": "005b7907-3dd0-403d-adfa-d6780a7083a6",
     "regions": {
      "3a0f642a-2af7-462d-ba25-ea0e8ad24ab0": {
       "attrs": {
        "height": 0.8,
        "width": 0.8,
        "x": 0.1,
        "y": 0.1
       },
       "content": {
        "cell": "e8e2f310-53c2-480c-8912-5127ae1cb681",
        "part": "whole"
       },
       "id": "3a0f642a-2af7-462d-ba25-ea0e8ad24ab0"
      }
     }
    },
    "73a7198d-babc-4078-93cf-09e5d89b6233": {
     "id": "73a7198d-babc-4078-93cf-09e5d89b6233",
     "prev": "42182d16-5425-468f-b45c-0f98787f3bd2",
     "regions": {
      "2b3b5dff-173a-4c72-8f60-ef6265d7cbf4": {
       "attrs": {
        "height": 0.8,
        "width": 0.8,
        "x": 0.1,
        "y": 0.1
       },
       "content": {
        "cell": "9e71264f-e29b-4a08-98a0-ad928feef6d7",
        "part": "whole"
       },
       "id": "2b3b5dff-173a-4c72-8f60-ef6265d7cbf4"
      }
     }
    },
    "76e143c4-9f51-49b5-b186-4b4c2f610e48": {
     "id": "76e143c4-9f51-49b5-b186-4b4c2f610e48",
     "prev": "73a7198d-babc-4078-93cf-09e5d89b6233",
     "regions": {
      "a8a3b851-a254-4b6a-acb8-f7ba5d09cf3d": {
       "attrs": {
        "height": 0.8,
        "width": 0.8,
        "x": 0.1,
        "y": 0.1
       },
       "content": {
        "cell": "9da47651-c0f0-4a60-83bb-d943dbb3e6ad",
        "part": "whole"
       },
       "id": "a8a3b851-a254-4b6a-acb8-f7ba5d09cf3d"
      }
     }
    },
    "7f7f0beb-3ed2-4707-ae15-7e03b4d0915d": {
     "id": "7f7f0beb-3ed2-4707-ae15-7e03b4d0915d",
     "prev": "3b75bda0-0ddc-4653-92d4-353a84ac890f",
     "regions": {
      "bf1935d9-54f9-4ef6-8b5f-b5d8b6f8b7ab": {
       "attrs": {
        "height": 0.8,
        "width": 0.8,
        "x": 0.1,
        "y": 0.1
       },
       "content": {
        "cell": "5e4988ef-d209-4077-a1c6-d648e1942ee4",
        "part": "whole"
       },
       "id": "bf1935d9-54f9-4ef6-8b5f-b5d8b6f8b7ab"
      }
     }
    },
    "8682eb46-1268-4c52-8421-9ccd50d4e4c3": {
     "id": "8682eb46-1268-4c52-8421-9ccd50d4e4c3",
     "prev": "4e0f53d3-62bf-45dd-8143-9bd8c1a7b737",
     "regions": {
      "fef5a7cd-40a8-4335-ad01-0e16a6c00692": {
       "attrs": {
        "height": 0.8,
        "width": 0.8,
        "x": 0.1,
        "y": 0.1
       },
       "content": {
        "cell": "67e88c0c-abc5-426e-b704-b784631f4335",
        "part": "whole"
       },
       "id": "fef5a7cd-40a8-4335-ad01-0e16a6c00692"
      }
     }
    },
    "86a00536-07ae-46b7-9547-7dae3dc49601": {
     "id": "86a00536-07ae-46b7-9547-7dae3dc49601",
     "prev": "a839df02-a005-40c1-b934-99a6e680c47b",
     "regions": {
      "22af5d83-bbc8-4cba-b1b5-439e4d850870": {
       "attrs": {
        "height": 0.8,
        "width": 0.8,
        "x": 0.1,
        "y": 0.1
       },
       "content": {
        "cell": "dc6e8743-52e1-4e80-9814-bc052cf6d5f4",
        "part": "whole"
       },
       "id": "22af5d83-bbc8-4cba-b1b5-439e4d850870"
      }
     }
    },
    "8f4ef954-8519-46f4-8047-7e5c250af01b": {
     "id": "8f4ef954-8519-46f4-8047-7e5c250af01b",
     "prev": "30382703-4844-47bb-9f72-0358e445c884",
     "regions": {
      "fa691386-f929-452f-acc3-0ccffd1d1b8c": {
       "attrs": {
        "height": 0.8,
        "width": 0.8,
        "x": 0.1,
        "y": 0.1
       },
       "content": {
        "cell": "393130da-f4a1-4000-afdb-b22e36783212",
        "part": "whole"
       },
       "id": "fa691386-f929-452f-acc3-0ccffd1d1b8c"
      }
     }
    },
    "8faeff1d-05cd-4b07-853c-4aee84983c5c": {
     "id": "8faeff1d-05cd-4b07-853c-4aee84983c5c",
     "prev": "86a00536-07ae-46b7-9547-7dae3dc49601",
     "regions": {
      "5fdb4cd2-2678-4ce1-8fac-adb277dbae5d": {
       "attrs": {
        "height": 0.8,
        "width": 0.8,
        "x": 0.1,
        "y": 0.1
       },
       "content": {
        "cell": "78701b27-e176-4cbc-a10d-d12aa79649d8",
        "part": "whole"
       },
       "id": "5fdb4cd2-2678-4ce1-8fac-adb277dbae5d"
      }
     }
    },
    "9f0e520d-2b88-4e1a-8cf9-3770c25ea8c9": {
     "id": "9f0e520d-2b88-4e1a-8cf9-3770c25ea8c9",
     "prev": "3fd54868-e3ce-4c49-bcc2-d21b196e45d8",
     "regions": {
      "da41f65f-919a-4456-86fa-b6717026c922": {
       "attrs": {
        "height": 0.8,
        "width": 0.8,
        "x": 0.1,
        "y": 0.1
       },
       "content": {
        "cell": "65d3f4ef-5396-48e1-9608-3acd8b34c1e0",
        "part": "whole"
       },
       "id": "da41f65f-919a-4456-86fa-b6717026c922"
      }
     }
    },
    "a839df02-a005-40c1-b934-99a6e680c47b": {
     "id": "a839df02-a005-40c1-b934-99a6e680c47b",
     "prev": "67996fd7-3e67-43af-a601-4b02b0c0e2d8",
     "regions": {
      "ff85672d-1f55-4d0a-bc35-ab14d3474e91": {
       "attrs": {
        "height": 0.8,
        "width": 0.8,
        "x": 0.1,
        "y": 0.1
       },
       "content": {
        "cell": "e4b23e2b-1ca3-4a6f-b673-e043f4df23b7",
        "part": "whole"
       },
       "id": "ff85672d-1f55-4d0a-bc35-ab14d3474e91"
      }
     }
    },
    "acd44efc-2f35-4652-924e-581a09ae0ed9": {
     "id": "acd44efc-2f35-4652-924e-581a09ae0ed9",
     "prev": "e5f3808f-6a1b-4d80-9b2b-2cef41e207e4",
     "regions": {
      "882dcd63-9d98-45d1-b61c-a125cce44ffd": {
       "attrs": {
        "height": 0.8,
        "width": 0.8,
        "x": 0.1,
        "y": 0.1
       },
       "content": {
        "cell": "8d2625c6-8f17-4a2d-bcb1-4de17765ee4c",
        "part": "whole"
       },
       "id": "882dcd63-9d98-45d1-b61c-a125cce44ffd"
      }
     }
    },
    "af16c81e-6933-4788-a648-bc1244c5b86b": {
     "id": "af16c81e-6933-4788-a648-bc1244c5b86b",
     "prev": "fd4cf0c1-7340-4213-92dc-3e20cee5530d",
     "regions": {
      "4eec9f83-dbf4-42b2-83e6-7f6f5169e37c": {
       "attrs": {
        "height": 0.8,
        "width": 0.8,
        "x": 0.1,
        "y": 0.1
       },
       "content": {
        "cell": "ae72934a-3f08-461f-9e40-d01ecd866070",
        "part": "whole"
       },
       "id": "4eec9f83-dbf4-42b2-83e6-7f6f5169e37c"
      }
     }
    },
    "b0807edf-9256-4d2f-a0bc-3eba1549be09": {
     "id": "b0807edf-9256-4d2f-a0bc-3eba1549be09",
     "prev": "d3644f9b-14fe-490a-a2a6-b109cad49bc1",
     "regions": {
      "98f58199-827f-4a02-93e2-f0d83de43dbc": {
       "attrs": {
        "height": 0.8,
        "width": 0.8,
        "x": 0.1,
        "y": 0.1
       },
       "content": {
        "cell": "c86197bc-2e16-4355-a728-158f7b9eaf1c",
        "part": "whole"
       },
       "id": "98f58199-827f-4a02-93e2-f0d83de43dbc"
      }
     }
    },
    "b3ff6348-8adf-4d58-9350-87e25fe69123": {
     "id": "b3ff6348-8adf-4d58-9350-87e25fe69123",
     "prev": "e29a60f7-92f0-4356-8a5f-8f446cb87a18",
     "regions": {
      "f7868184-6fe0-41c6-a657-b292ab0ed52b": {
       "attrs": {
        "height": 0.8,
        "width": 0.8,
        "x": 0.1,
        "y": 0.1
       },
       "content": {
        "cell": "188f61a1-b19f-4c26-9cae-78a41ea4cdbc",
        "part": "whole"
       },
       "id": "f7868184-6fe0-41c6-a657-b292ab0ed52b"
      }
     }
    },
    "b4a7e59a-6462-4c39-bef3-16d44f9747f1": {
     "id": "b4a7e59a-6462-4c39-bef3-16d44f9747f1",
     "prev": "4ab61a8b-eaf0-46d4-b243-63499723383d",
     "regions": {
      "0fe4197b-16f7-43f0-ac9b-208e5f8d80bd": {
       "attrs": {
        "height": 0.8,
        "width": 0.8,
        "x": 0.1,
        "y": 0.1
       },
       "content": {
        "cell": "22103698-30f0-4d32-982a-681639811520",
        "part": "whole"
       },
       "id": "0fe4197b-16f7-43f0-ac9b-208e5f8d80bd"
      }
     }
    },
    "bd5b1a55-bab1-428a-accb-7383ef7ceea0": {
     "id": "bd5b1a55-bab1-428a-accb-7383ef7ceea0",
     "prev": "f50e9902-20d0-4605-bc4a-db0992ffbcdf",
     "regions": {
      "fd18defb-08ed-4eaa-9614-0614fa7d2113": {
       "attrs": {
        "height": 0.8,
        "width": 0.8,
        "x": 0.1,
        "y": 0.1
       },
       "content": {
        "cell": "5ddff2e4-cb3e-4280-8931-0747cbbec05d",
        "part": "whole"
       },
       "id": "fd18defb-08ed-4eaa-9614-0614fa7d2113"
      }
     }
    },
    "bf486aaf-f826-41f9-909b-3b5e971305bc": {
     "id": "bf486aaf-f826-41f9-909b-3b5e971305bc",
     "prev": "2b99d5bf-00e2-48d2-9400-db85cc976f1d",
     "regions": {
      "0e18467f-b24b-4547-9e81-1f42f6a0515f": {
       "attrs": {
        "height": 0.8,
        "width": 0.8,
        "x": 0.1,
        "y": 0.1
       },
       "content": {
        "cell": "59de0611-7495-44b7-99f9-ba1785cd3455",
        "part": "whole"
       },
       "id": "0e18467f-b24b-4547-9e81-1f42f6a0515f"
      }
     }
    },
    "c628d33c-23b5-4253-a4aa-22fda1197075": {
     "id": "c628d33c-23b5-4253-a4aa-22fda1197075",
     "prev": "0c23d377-3f55-467b-8d35-f3c73a3241ad",
     "regions": {
      "b58a8ca4-44ab-47d4-b24c-cc1438995d63": {
       "attrs": {
        "height": 0.8,
        "width": 0.8,
        "x": 0.1,
        "y": 0.1
       },
       "content": {
        "cell": "f8617f1d-3f30-49a9-aeeb-1adffa233108",
        "part": "whole"
       },
       "id": "b58a8ca4-44ab-47d4-b24c-cc1438995d63"
      }
     }
    },
    "cf1d4152-8885-49de-b178-18cbe3e3c041": {
     "id": "cf1d4152-8885-49de-b178-18cbe3e3c041",
     "prev": "61111560-0210-434e-bcce-3df5e349528c",
     "regions": {
      "522908c5-27e6-46b9-b324-d456bba919cf": {
       "attrs": {
        "height": 0.8,
        "width": 0.8,
        "x": 0.1,
        "y": 0.1
       },
       "content": {
        "cell": "0788fa02-f128-4846-97c6-218b443ad5ef",
        "part": "whole"
       },
       "id": "522908c5-27e6-46b9-b324-d456bba919cf"
      }
     }
    },
    "d3644f9b-14fe-490a-a2a6-b109cad49bc1": {
     "id": "d3644f9b-14fe-490a-a2a6-b109cad49bc1",
     "prev": "56e6af3f-385b-4aef-9a26-25e4f1618221",
     "regions": {
      "910584ec-6919-4a25-83e9-554d3e21cb7f": {
       "attrs": {
        "height": 0.8,
        "width": 0.8,
        "x": 0.1,
        "y": 0.1
       },
       "content": {
        "cell": "1430ee6c-21d4-448b-a979-6317e32ea231",
        "part": "whole"
       },
       "id": "910584ec-6919-4a25-83e9-554d3e21cb7f"
      }
     }
    },
    "d835959d-9bca-4786-b4d5-807e3bad4073": {
     "id": "d835959d-9bca-4786-b4d5-807e3bad4073",
     "prev": "1182dc3a-e14b-4f3f-ad41-06bbbcee6967",
     "regions": {
      "cc2a1d2c-84ce-4cee-b8c3-e56a597232dc": {
       "attrs": {
        "height": 0.8,
        "width": 0.8,
        "x": 0.1,
        "y": 0.1
       },
       "content": {
        "cell": "41266519-c2a1-4164-a03b-6587206cafde",
        "part": "whole"
       },
       "id": "cc2a1d2c-84ce-4cee-b8c3-e56a597232dc"
      }
     }
    },
    "dcba8ae9-1f74-42fb-abd0-13cc7ef6ad3c": {
     "id": "dcba8ae9-1f74-42fb-abd0-13cc7ef6ad3c",
     "prev": "ed0b78de-4188-4541-b78e-7eb760482c69",
     "regions": {
      "7fa23755-08fa-4637-9619-63f607135ece": {
       "attrs": {
        "height": 0.8,
        "width": 0.8,
        "x": 0.1,
        "y": 0.1
       },
       "content": {
        "cell": "8f62c43b-1dec-4f53-af80-1ee88cd720cf",
        "part": "whole"
       },
       "id": "7fa23755-08fa-4637-9619-63f607135ece"
      }
     }
    },
    "e29a60f7-92f0-4356-8a5f-8f446cb87a18": {
     "id": "e29a60f7-92f0-4356-8a5f-8f446cb87a18",
     "prev": "8faeff1d-05cd-4b07-853c-4aee84983c5c",
     "regions": {
      "e0104b9c-731d-4f9a-83ab-bdf17c6c76e7": {
       "attrs": {
        "height": 0.8,
        "width": 0.8,
        "x": 0.1,
        "y": 0.1
       },
       "content": {
        "cell": "8e4e4c4b-861d-419f-86bb-8635efdbd8b4",
        "part": "whole"
       },
       "id": "e0104b9c-731d-4f9a-83ab-bdf17c6c76e7"
      }
     }
    },
    "e5f3808f-6a1b-4d80-9b2b-2cef41e207e4": {
     "id": "e5f3808f-6a1b-4d80-9b2b-2cef41e207e4",
     "prev": "af16c81e-6933-4788-a648-bc1244c5b86b",
     "regions": {
      "797bd340-dea3-42b3-bd16-ba75f7920697": {
       "attrs": {
        "height": 0.8,
        "width": 0.8,
        "x": 0.1,
        "y": 0.1
       },
       "content": {
        "cell": "991bb92e-9b2c-4145-bec1-f35b2d390cea",
        "part": "whole"
       },
       "id": "797bd340-dea3-42b3-bd16-ba75f7920697"
      }
     }
    },
    "e7d02135-c7ee-40ac-9eec-d17e95c47c02": {
     "id": "e7d02135-c7ee-40ac-9eec-d17e95c47c02",
     "prev": "d835959d-9bca-4786-b4d5-807e3bad4073",
     "regions": {
      "64af6328-a82b-4481-9c9b-472f464faf8a": {
       "attrs": {
        "height": 0.8,
        "width": 0.8,
        "x": 0.1,
        "y": 0.1
       },
       "content": {
        "cell": "2b0c661f-2c48-4e55-b516-a3e6a6d1d5f8",
        "part": "whole"
       },
       "id": "64af6328-a82b-4481-9c9b-472f464faf8a"
      }
     }
    },
    "ed0b78de-4188-4541-b78e-7eb760482c69": {
     "id": "ed0b78de-4188-4541-b78e-7eb760482c69",
     "prev": "02cbf61f-d364-4f37-8645-05bf4c9326a4",
     "regions": {
      "d4377574-440f-4936-960d-0f0679a46688": {
       "attrs": {
        "height": 0.8,
        "width": 0.8,
        "x": 0.1,
        "y": 0.1
       },
       "content": {
        "cell": "dfd266e6-bc2d-47b0-b5dd-9f2943635f88",
        "part": "whole"
       },
       "id": "d4377574-440f-4936-960d-0f0679a46688"
      }
     }
    },
    "f0c6740f-10c4-4d3d-807b-290959b0b0b1": {
     "id": "f0c6740f-10c4-4d3d-807b-290959b0b0b1",
     "prev": "bd5b1a55-bab1-428a-accb-7383ef7ceea0",
     "regions": {
      "e4e5676e-457e-4abd-afac-ca65773d3bae": {
       "attrs": {
        "height": 0.8,
        "width": 0.8,
        "x": 0.1,
        "y": 0.1
       },
       "content": {
        "cell": "bf92caac-9f3f-473b-acdd-b02fc95bf592",
        "part": "whole"
       },
       "id": "e4e5676e-457e-4abd-afac-ca65773d3bae"
      }
     }
    },
    "f2952459-81c5-4a81-a09d-f1b556798dce": {
     "id": "f2952459-81c5-4a81-a09d-f1b556798dce",
     "prev": "553b193e-5b72-46ff-b912-0a819b8ef95d",
     "regions": {
      "c789e59c-b9f7-4df1-8f43-7829b87d0b42": {
       "attrs": {
        "height": 0.8,
        "width": 0.8,
        "x": 0.1,
        "y": 0.1
       },
       "content": {
        "cell": "fffb97f6-cdad-468a-98b3-22c7033dbe05",
        "part": "whole"
       },
       "id": "c789e59c-b9f7-4df1-8f43-7829b87d0b42"
      }
     }
    },
    "f50e9902-20d0-4605-bc4a-db0992ffbcdf": {
     "id": "f50e9902-20d0-4605-bc4a-db0992ffbcdf",
     "prev": "5589a419-7b74-4c51-a33e-c1f79b670619",
     "regions": {
      "b44d6cf7-a47e-44c7-aabb-0e0b2679777c": {
       "attrs": {
        "height": 0.8,
        "width": 0.8,
        "x": 0.1,
        "y": 0.1
       },
       "content": {
        "cell": "0c2a71c1-8613-4a94-acc6-39c6b65fc8ca",
        "part": "whole"
       },
       "id": "b44d6cf7-a47e-44c7-aabb-0e0b2679777c"
      }
     }
    },
    "fd4cf0c1-7340-4213-92dc-3e20cee5530d": {
     "id": "fd4cf0c1-7340-4213-92dc-3e20cee5530d",
     "prev": "b4a7e59a-6462-4c39-bef3-16d44f9747f1",
     "regions": {
      "a66c4af8-b3a2-4b09-b89f-90fbc5dc6636": {
       "attrs": {
        "height": 0.8,
        "width": 0.8,
        "x": 0.1,
        "y": 0.1
       },
       "content": {
        "cell": "dd72ad35-c7dc-422d-a0d4-256c95edac93",
        "part": "whole"
       },
       "id": "a66c4af8-b3a2-4b09-b89f-90fbc5dc6636"
      }
     }
    }
   },
   "themes": {}
  }
 },
 "nbformat": 4,
 "nbformat_minor": 0
}
