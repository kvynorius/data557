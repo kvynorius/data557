{
 "cells": [
  {
   "cell_type": "markdown",
   "metadata": {
    "nbpresent": {
     "id": "5546ffe4-773e-4a4c-8fba-6ba198490eea"
    }
   },
   "source": [
    "# Pandas\n",
    "---\n",
    "\n",
    "Pandas will introducse us to a powerful new data structure: the dataframe. A dataframe is a 2-D array of columnar data format where each variable (typically) represents a column and each record (usually) represents a row. You can think of it as an excel-like table or sql-like table. We will begin by looking at the basic operations we can perform with a dataframe. \n",
    "\n",
    "We will cover:\n",
    "\n",
    "Topic | Method\n",
    "-|-\n",
    "[reading data into a dataframe](#Reading-csv-into-dataframe) | `.read_csv()`\n",
    "[checking the metadata](#Info)| `.info()`\n",
    "[viewing the first few rows](#Head)|`.head()`\n",
    "[viewing the last few rows](#Tail)|`.tail()`\n",
    "[viewing some statistical properties](#Describe)|`.describe()`\n",
    "\n",
    "## *Resources*\n",
    "[The pandas documentation](http://pandas.pydata.org/pandas-docs/stable/)\n",
    "\n",
    "[Tidy data by Hadley](http://vita.had.co.nz/papers/tidy-data.pdf)\n",
    "\n",
    "[Ten minute tour of Pandas by creator Wes Mckinney](https://vimeo.com/59324550)\n",
    "\n",
    "---"
   ]
  },
  {
   "cell_type": "code",
   "execution_count": 1,
   "metadata": {
    "collapsed": false,
    "nbpresent": {
     "id": "26623631-3cc3-4767-9824-6bdbf217a235"
    }
   },
   "outputs": [
    {
     "name": "stdout",
     "output_type": "stream",
     "text": [
      "Alexander C Booth 2016-10-02 \n",
      "\n",
      "CPython 3.5.1\n",
      "IPython 4.2.0\n",
      "\n",
      "pandas 0.18.1\n",
      "\n",
      "compiler   : GCC 4.2.1 Compatible Apple LLVM 4.2 (clang-425.0.28)\n",
      "system     : Darwin\n",
      "release    : 16.0.0\n",
      "machine    : x86_64\n",
      "processor  : i386\n",
      "CPU cores  : 4\n",
      "interpreter: 64bit\n"
     ]
    }
   ],
   "source": [
    "%load_ext watermark\n",
    "%watermark -a 'Alexander C Booth' -mvd -p pandas"
   ]
  },
  {
   "cell_type": "code",
   "execution_count": 2,
   "metadata": {
    "collapsed": true,
    "nbpresent": {
     "id": "4dcacff1-68c1-4074-a2ea-66f897860729"
    }
   },
   "outputs": [],
   "source": [
    "import pandas as pd"
   ]
  },
  {
   "cell_type": "markdown",
   "metadata": {
    "nbpresent": {
     "id": "e01f8a77-4498-4a8a-9298-e6fac6a5d19c"
    }
   },
   "source": [
    "### Reading in the Data\n",
    "We read the data into RAM (memory) and store it directly into a DataFrame object. Pandas has many built-in functions for reading data into a dataframe. \n",
    "\n",
    "Here is a list:\n",
    "- pd.read_clipboard\n",
    "- pd.read_csv\n",
    "- pd.read_excel\n",
    "- pd.read_fwf\n",
    "- pd.read_gbq\n",
    "- pd.read_hdf\n",
    "- pd.read_html\n",
    "- pd.read_json\n",
    "- pd.read_msgpack\n",
    "- pd.read_pickle\n",
    "- pd.read_sas\n",
    "- pd.read_sql\n",
    "- pd.read_sql_query\n",
    "- pd.read_sql_table\n",
    "- pd.read_stata\n",
    "- pd.read_table\n",
    "\n",
    "We will read in a csv below."
   ]
  },
  {
   "cell_type": "markdown",
   "metadata": {
    "nbpresent": {
     "id": "2058a439-6bb4-42c8-9d0a-4eb3fd92a66e"
    }
   },
   "source": [
    "### Reading csv into dataframe\n",
    "We should note here that pandas will infer the data types of the columns in your data. It does a good job at this, but we will have keep in mind that it cannot always infer the proper type. \n",
    "\n",
    "*For example, the data below has an \"ID\" column. Since the ID values are numerical, pandas assumes we want these to be numbers instead of labels.*"
   ]
  },
  {
   "cell_type": "code",
   "execution_count": 3,
   "metadata": {
    "collapsed": false,
    "nbpresent": {
     "id": "3c258272-cfa9-4bc3-b01b-bb536f914bb4"
    }
   },
   "outputs": [],
   "source": [
    "df = pd.read_csv('../../data/iris.csv')"
   ]
  },
  {
   "cell_type": "markdown",
   "metadata": {
    "nbpresent": {
     "id": "664a05bc-3eb7-4043-b7f9-83795e174e02"
    }
   },
   "source": [
    "Since pandas is built on top of NumPy, we can access NumPy attributes like `.shape`"
   ]
  },
  {
   "cell_type": "code",
   "execution_count": 4,
   "metadata": {
    "collapsed": false,
    "nbpresent": {
     "id": "aee428fc-8ed8-4245-bc18-80b280cced16"
    }
   },
   "outputs": [
    {
     "data": {
      "text/plain": [
       "(150, 5)"
      ]
     },
     "execution_count": 4,
     "metadata": {},
     "output_type": "execute_result"
    }
   ],
   "source": [
    "df.shape"
   ]
  },
  {
   "cell_type": "markdown",
   "metadata": {
    "nbpresent": {
     "id": "5b6b16c2-11f3-4222-93dc-c6f15b521935"
    }
   },
   "source": [
    "### Viewing the data\n",
    "First, we will view some metadata about the data, using the `.info()` method. Next, we will use the `.head()` and `.tail()` methods to view small pieces of the data at a time."
   ]
  },
  {
   "cell_type": "markdown",
   "metadata": {
    "nbpresent": {
     "id": "6f3af43a-2399-44bd-b33c-117262a8c32a"
    }
   },
   "source": [
    "### Info"
   ]
  },
  {
   "cell_type": "code",
   "execution_count": 5,
   "metadata": {
    "collapsed": false,
    "nbpresent": {
     "id": "0f40079f-c3b2-4972-b022-88f73dbb3fe3"
    }
   },
   "outputs": [
    {
     "name": "stdout",
     "output_type": "stream",
     "text": [
      "<class 'pandas.core.frame.DataFrame'>\n",
      "RangeIndex: 150 entries, 0 to 149\n",
      "Data columns (total 5 columns):\n",
      "sepal length (cm)    150 non-null float64\n",
      "sepal width (cm)     150 non-null float64\n",
      "petal length (cm)    150 non-null float64\n",
      "petal width (cm)     150 non-null float64\n",
      "class                150 non-null int64\n",
      "dtypes: float64(4), int64(1)\n",
      "memory usage: 5.9 KB\n"
     ]
    }
   ],
   "source": [
    "df.info()"
   ]
  },
  {
   "cell_type": "markdown",
   "metadata": {
    "nbpresent": {
     "id": "972a76c5-d767-415a-b9ae-eed02d2ba7b9"
    }
   },
   "source": [
    "The info method allowed us to see that:\n",
    "- there are 150 rows, 5 columns and some properties about those columns\n",
    "- there are 4 columns of type float64 and 1 columns of type int64. \n",
    "- column names along with how many non-null entries\n",
    "\n",
    "Note that, in pandas, a column of type 'object' means it has infered those columns to be categorial, meaning their values are strings. In our iris dataframe, although pandas has inferred class to be numerical, it is actually the labels of the classes of flower types. We will change this to object type in the future."
   ]
  },
  {
   "cell_type": "markdown",
   "metadata": {
    "nbpresent": {
     "id": "05cb2dc6-ee7c-4bd7-89f2-7e8a0ccfc282"
    }
   },
   "source": [
    "### Head\n",
    "Now let's view a few rows. The head method will show us the first 5 rows by default, but we can pass in an integer N to see the first N rows instead. "
   ]
  },
  {
   "cell_type": "code",
   "execution_count": 6,
   "metadata": {
    "collapsed": false,
    "nbpresent": {
     "id": "566aca1a-1b03-4069-b8ab-77b90fdf2932"
    }
   },
   "outputs": [
    {
     "data": {
      "text/html": [
       "<div>\n",
       "<table border=\"1\" class=\"dataframe\">\n",
       "  <thead>\n",
       "    <tr style=\"text-align: right;\">\n",
       "      <th></th>\n",
       "      <th>sepal length (cm)</th>\n",
       "      <th>sepal width (cm)</th>\n",
       "      <th>petal length (cm)</th>\n",
       "      <th>petal width (cm)</th>\n",
       "      <th>class</th>\n",
       "    </tr>\n",
       "  </thead>\n",
       "  <tbody>\n",
       "    <tr>\n",
       "      <th>0</th>\n",
       "      <td>5.1</td>\n",
       "      <td>3.5</td>\n",
       "      <td>1.4</td>\n",
       "      <td>0.2</td>\n",
       "      <td>0</td>\n",
       "    </tr>\n",
       "    <tr>\n",
       "      <th>1</th>\n",
       "      <td>4.9</td>\n",
       "      <td>3.0</td>\n",
       "      <td>1.4</td>\n",
       "      <td>0.2</td>\n",
       "      <td>0</td>\n",
       "    </tr>\n",
       "    <tr>\n",
       "      <th>2</th>\n",
       "      <td>4.7</td>\n",
       "      <td>3.2</td>\n",
       "      <td>1.3</td>\n",
       "      <td>0.2</td>\n",
       "      <td>0</td>\n",
       "    </tr>\n",
       "    <tr>\n",
       "      <th>3</th>\n",
       "      <td>4.6</td>\n",
       "      <td>3.1</td>\n",
       "      <td>1.5</td>\n",
       "      <td>0.2</td>\n",
       "      <td>0</td>\n",
       "    </tr>\n",
       "    <tr>\n",
       "      <th>4</th>\n",
       "      <td>5.0</td>\n",
       "      <td>3.6</td>\n",
       "      <td>1.4</td>\n",
       "      <td>0.2</td>\n",
       "      <td>0</td>\n",
       "    </tr>\n",
       "  </tbody>\n",
       "</table>\n",
       "</div>"
      ],
      "text/plain": [
       "   sepal length (cm)  sepal width (cm)  petal length (cm)  petal width (cm)  \\\n",
       "0                5.1               3.5                1.4               0.2   \n",
       "1                4.9               3.0                1.4               0.2   \n",
       "2                4.7               3.2                1.3               0.2   \n",
       "3                4.6               3.1                1.5               0.2   \n",
       "4                5.0               3.6                1.4               0.2   \n",
       "\n",
       "   class  \n",
       "0      0  \n",
       "1      0  \n",
       "2      0  \n",
       "3      0  \n",
       "4      0  "
      ]
     },
     "execution_count": 6,
     "metadata": {},
     "output_type": "execute_result"
    }
   ],
   "source": [
    "df.head()"
   ]
  },
  {
   "cell_type": "code",
   "execution_count": 7,
   "metadata": {
    "collapsed": false,
    "nbpresent": {
     "id": "8678a7e7-31c5-4e65-aa67-e95d61137143"
    }
   },
   "outputs": [
    {
     "data": {
      "text/html": [
       "<div>\n",
       "<table border=\"1\" class=\"dataframe\">\n",
       "  <thead>\n",
       "    <tr style=\"text-align: right;\">\n",
       "      <th></th>\n",
       "      <th>sepal length (cm)</th>\n",
       "      <th>sepal width (cm)</th>\n",
       "      <th>petal length (cm)</th>\n",
       "      <th>petal width (cm)</th>\n",
       "      <th>class</th>\n",
       "    </tr>\n",
       "  </thead>\n",
       "  <tbody>\n",
       "    <tr>\n",
       "      <th>0</th>\n",
       "      <td>5.1</td>\n",
       "      <td>3.5</td>\n",
       "      <td>1.4</td>\n",
       "      <td>0.2</td>\n",
       "      <td>0</td>\n",
       "    </tr>\n",
       "    <tr>\n",
       "      <th>1</th>\n",
       "      <td>4.9</td>\n",
       "      <td>3.0</td>\n",
       "      <td>1.4</td>\n",
       "      <td>0.2</td>\n",
       "      <td>0</td>\n",
       "    </tr>\n",
       "    <tr>\n",
       "      <th>2</th>\n",
       "      <td>4.7</td>\n",
       "      <td>3.2</td>\n",
       "      <td>1.3</td>\n",
       "      <td>0.2</td>\n",
       "      <td>0</td>\n",
       "    </tr>\n",
       "    <tr>\n",
       "      <th>3</th>\n",
       "      <td>4.6</td>\n",
       "      <td>3.1</td>\n",
       "      <td>1.5</td>\n",
       "      <td>0.2</td>\n",
       "      <td>0</td>\n",
       "    </tr>\n",
       "    <tr>\n",
       "      <th>4</th>\n",
       "      <td>5.0</td>\n",
       "      <td>3.6</td>\n",
       "      <td>1.4</td>\n",
       "      <td>0.2</td>\n",
       "      <td>0</td>\n",
       "    </tr>\n",
       "    <tr>\n",
       "      <th>5</th>\n",
       "      <td>5.4</td>\n",
       "      <td>3.9</td>\n",
       "      <td>1.7</td>\n",
       "      <td>0.4</td>\n",
       "      <td>0</td>\n",
       "    </tr>\n",
       "    <tr>\n",
       "      <th>6</th>\n",
       "      <td>4.6</td>\n",
       "      <td>3.4</td>\n",
       "      <td>1.4</td>\n",
       "      <td>0.3</td>\n",
       "      <td>0</td>\n",
       "    </tr>\n",
       "    <tr>\n",
       "      <th>7</th>\n",
       "      <td>5.0</td>\n",
       "      <td>3.4</td>\n",
       "      <td>1.5</td>\n",
       "      <td>0.2</td>\n",
       "      <td>0</td>\n",
       "    </tr>\n",
       "    <tr>\n",
       "      <th>8</th>\n",
       "      <td>4.4</td>\n",
       "      <td>2.9</td>\n",
       "      <td>1.4</td>\n",
       "      <td>0.2</td>\n",
       "      <td>0</td>\n",
       "    </tr>\n",
       "    <tr>\n",
       "      <th>9</th>\n",
       "      <td>4.9</td>\n",
       "      <td>3.1</td>\n",
       "      <td>1.5</td>\n",
       "      <td>0.1</td>\n",
       "      <td>0</td>\n",
       "    </tr>\n",
       "  </tbody>\n",
       "</table>\n",
       "</div>"
      ],
      "text/plain": [
       "   sepal length (cm)  sepal width (cm)  petal length (cm)  petal width (cm)  \\\n",
       "0                5.1               3.5                1.4               0.2   \n",
       "1                4.9               3.0                1.4               0.2   \n",
       "2                4.7               3.2                1.3               0.2   \n",
       "3                4.6               3.1                1.5               0.2   \n",
       "4                5.0               3.6                1.4               0.2   \n",
       "5                5.4               3.9                1.7               0.4   \n",
       "6                4.6               3.4                1.4               0.3   \n",
       "7                5.0               3.4                1.5               0.2   \n",
       "8                4.4               2.9                1.4               0.2   \n",
       "9                4.9               3.1                1.5               0.1   \n",
       "\n",
       "   class  \n",
       "0      0  \n",
       "1      0  \n",
       "2      0  \n",
       "3      0  \n",
       "4      0  \n",
       "5      0  \n",
       "6      0  \n",
       "7      0  \n",
       "8      0  \n",
       "9      0  "
      ]
     },
     "execution_count": 7,
     "metadata": {},
     "output_type": "execute_result"
    }
   ],
   "source": [
    "df.head(10) # Viewing the first 10 rows"
   ]
  },
  {
   "cell_type": "markdown",
   "metadata": {
    "nbpresent": {
     "id": "a4459105-026b-4fb3-b3db-3c9de638762e"
    }
   },
   "source": [
    "### Tail\n",
    "Similary, we can view the last 5 rows by calling the tail method. We can also choose to pass in an integer N to see the last N rows instead. "
   ]
  },
  {
   "cell_type": "code",
   "execution_count": 8,
   "metadata": {
    "collapsed": false,
    "nbpresent": {
     "id": "fd247d83-46da-4f7d-b90f-d0e738166311"
    }
   },
   "outputs": [
    {
     "data": {
      "text/html": [
       "<div>\n",
       "<table border=\"1\" class=\"dataframe\">\n",
       "  <thead>\n",
       "    <tr style=\"text-align: right;\">\n",
       "      <th></th>\n",
       "      <th>sepal length (cm)</th>\n",
       "      <th>sepal width (cm)</th>\n",
       "      <th>petal length (cm)</th>\n",
       "      <th>petal width (cm)</th>\n",
       "      <th>class</th>\n",
       "    </tr>\n",
       "  </thead>\n",
       "  <tbody>\n",
       "    <tr>\n",
       "      <th>145</th>\n",
       "      <td>6.7</td>\n",
       "      <td>3.0</td>\n",
       "      <td>5.2</td>\n",
       "      <td>2.3</td>\n",
       "      <td>2</td>\n",
       "    </tr>\n",
       "    <tr>\n",
       "      <th>146</th>\n",
       "      <td>6.3</td>\n",
       "      <td>2.5</td>\n",
       "      <td>5.0</td>\n",
       "      <td>1.9</td>\n",
       "      <td>2</td>\n",
       "    </tr>\n",
       "    <tr>\n",
       "      <th>147</th>\n",
       "      <td>6.5</td>\n",
       "      <td>3.0</td>\n",
       "      <td>5.2</td>\n",
       "      <td>2.0</td>\n",
       "      <td>2</td>\n",
       "    </tr>\n",
       "    <tr>\n",
       "      <th>148</th>\n",
       "      <td>6.2</td>\n",
       "      <td>3.4</td>\n",
       "      <td>5.4</td>\n",
       "      <td>2.3</td>\n",
       "      <td>2</td>\n",
       "    </tr>\n",
       "    <tr>\n",
       "      <th>149</th>\n",
       "      <td>5.9</td>\n",
       "      <td>3.0</td>\n",
       "      <td>5.1</td>\n",
       "      <td>1.8</td>\n",
       "      <td>2</td>\n",
       "    </tr>\n",
       "  </tbody>\n",
       "</table>\n",
       "</div>"
      ],
      "text/plain": [
       "     sepal length (cm)  sepal width (cm)  petal length (cm)  petal width (cm)  \\\n",
       "145                6.7               3.0                5.2               2.3   \n",
       "146                6.3               2.5                5.0               1.9   \n",
       "147                6.5               3.0                5.2               2.0   \n",
       "148                6.2               3.4                5.4               2.3   \n",
       "149                5.9               3.0                5.1               1.8   \n",
       "\n",
       "     class  \n",
       "145      2  \n",
       "146      2  \n",
       "147      2  \n",
       "148      2  \n",
       "149      2  "
      ]
     },
     "execution_count": 8,
     "metadata": {},
     "output_type": "execute_result"
    }
   ],
   "source": [
    "df.tail()"
   ]
  },
  {
   "cell_type": "code",
   "execution_count": 9,
   "metadata": {
    "collapsed": false,
    "nbpresent": {
     "id": "cae40ab2-96a4-4c06-9ede-e206ec885f3e"
    }
   },
   "outputs": [
    {
     "data": {
      "text/html": [
       "<div>\n",
       "<table border=\"1\" class=\"dataframe\">\n",
       "  <thead>\n",
       "    <tr style=\"text-align: right;\">\n",
       "      <th></th>\n",
       "      <th>sepal length (cm)</th>\n",
       "      <th>sepal width (cm)</th>\n",
       "      <th>petal length (cm)</th>\n",
       "      <th>petal width (cm)</th>\n",
       "      <th>class</th>\n",
       "    </tr>\n",
       "  </thead>\n",
       "  <tbody>\n",
       "    <tr>\n",
       "      <th>140</th>\n",
       "      <td>6.7</td>\n",
       "      <td>3.1</td>\n",
       "      <td>5.6</td>\n",
       "      <td>2.4</td>\n",
       "      <td>2</td>\n",
       "    </tr>\n",
       "    <tr>\n",
       "      <th>141</th>\n",
       "      <td>6.9</td>\n",
       "      <td>3.1</td>\n",
       "      <td>5.1</td>\n",
       "      <td>2.3</td>\n",
       "      <td>2</td>\n",
       "    </tr>\n",
       "    <tr>\n",
       "      <th>142</th>\n",
       "      <td>5.8</td>\n",
       "      <td>2.7</td>\n",
       "      <td>5.1</td>\n",
       "      <td>1.9</td>\n",
       "      <td>2</td>\n",
       "    </tr>\n",
       "    <tr>\n",
       "      <th>143</th>\n",
       "      <td>6.8</td>\n",
       "      <td>3.2</td>\n",
       "      <td>5.9</td>\n",
       "      <td>2.3</td>\n",
       "      <td>2</td>\n",
       "    </tr>\n",
       "    <tr>\n",
       "      <th>144</th>\n",
       "      <td>6.7</td>\n",
       "      <td>3.3</td>\n",
       "      <td>5.7</td>\n",
       "      <td>2.5</td>\n",
       "      <td>2</td>\n",
       "    </tr>\n",
       "    <tr>\n",
       "      <th>145</th>\n",
       "      <td>6.7</td>\n",
       "      <td>3.0</td>\n",
       "      <td>5.2</td>\n",
       "      <td>2.3</td>\n",
       "      <td>2</td>\n",
       "    </tr>\n",
       "    <tr>\n",
       "      <th>146</th>\n",
       "      <td>6.3</td>\n",
       "      <td>2.5</td>\n",
       "      <td>5.0</td>\n",
       "      <td>1.9</td>\n",
       "      <td>2</td>\n",
       "    </tr>\n",
       "    <tr>\n",
       "      <th>147</th>\n",
       "      <td>6.5</td>\n",
       "      <td>3.0</td>\n",
       "      <td>5.2</td>\n",
       "      <td>2.0</td>\n",
       "      <td>2</td>\n",
       "    </tr>\n",
       "    <tr>\n",
       "      <th>148</th>\n",
       "      <td>6.2</td>\n",
       "      <td>3.4</td>\n",
       "      <td>5.4</td>\n",
       "      <td>2.3</td>\n",
       "      <td>2</td>\n",
       "    </tr>\n",
       "    <tr>\n",
       "      <th>149</th>\n",
       "      <td>5.9</td>\n",
       "      <td>3.0</td>\n",
       "      <td>5.1</td>\n",
       "      <td>1.8</td>\n",
       "      <td>2</td>\n",
       "    </tr>\n",
       "  </tbody>\n",
       "</table>\n",
       "</div>"
      ],
      "text/plain": [
       "     sepal length (cm)  sepal width (cm)  petal length (cm)  petal width (cm)  \\\n",
       "140                6.7               3.1                5.6               2.4   \n",
       "141                6.9               3.1                5.1               2.3   \n",
       "142                5.8               2.7                5.1               1.9   \n",
       "143                6.8               3.2                5.9               2.3   \n",
       "144                6.7               3.3                5.7               2.5   \n",
       "145                6.7               3.0                5.2               2.3   \n",
       "146                6.3               2.5                5.0               1.9   \n",
       "147                6.5               3.0                5.2               2.0   \n",
       "148                6.2               3.4                5.4               2.3   \n",
       "149                5.9               3.0                5.1               1.8   \n",
       "\n",
       "     class  \n",
       "140      2  \n",
       "141      2  \n",
       "142      2  \n",
       "143      2  \n",
       "144      2  \n",
       "145      2  \n",
       "146      2  \n",
       "147      2  \n",
       "148      2  \n",
       "149      2  "
      ]
     },
     "execution_count": 9,
     "metadata": {},
     "output_type": "execute_result"
    }
   ],
   "source": [
    "df.tail(10) # Last 10 Rows"
   ]
  },
  {
   "cell_type": "markdown",
   "metadata": {
    "nbpresent": {
     "id": "5f0be92c-47c8-4529-93af-c958e00a1c3a"
    }
   },
   "source": [
    "### Describe\n",
    "Lastly, we can examine the descriptive statistics of the dataframe by calling the describe method. When we call this method, pandas will calculate the following properties of the dataframe for the numerical columns only:\n",
    "- count\n",
    "- mean\n",
    "- standard deviation\n",
    "- minimum \n",
    "- quantiles\n",
    "- maximum"
   ]
  },
  {
   "cell_type": "code",
   "execution_count": 10,
   "metadata": {
    "collapsed": false,
    "nbpresent": {
     "id": "25f20ba2-cedf-4c5b-b9c6-119dbc18ae40"
    }
   },
   "outputs": [
    {
     "data": {
      "text/html": [
       "<div>\n",
       "<table border=\"1\" class=\"dataframe\">\n",
       "  <thead>\n",
       "    <tr style=\"text-align: right;\">\n",
       "      <th></th>\n",
       "      <th>sepal length (cm)</th>\n",
       "      <th>sepal width (cm)</th>\n",
       "      <th>petal length (cm)</th>\n",
       "      <th>petal width (cm)</th>\n",
       "      <th>class</th>\n",
       "    </tr>\n",
       "  </thead>\n",
       "  <tbody>\n",
       "    <tr>\n",
       "      <th>count</th>\n",
       "      <td>150.000000</td>\n",
       "      <td>150.000000</td>\n",
       "      <td>150.000000</td>\n",
       "      <td>150.000000</td>\n",
       "      <td>150.000000</td>\n",
       "    </tr>\n",
       "    <tr>\n",
       "      <th>mean</th>\n",
       "      <td>5.843333</td>\n",
       "      <td>3.054000</td>\n",
       "      <td>3.758667</td>\n",
       "      <td>1.198667</td>\n",
       "      <td>1.000000</td>\n",
       "    </tr>\n",
       "    <tr>\n",
       "      <th>std</th>\n",
       "      <td>0.828066</td>\n",
       "      <td>0.433594</td>\n",
       "      <td>1.764420</td>\n",
       "      <td>0.763161</td>\n",
       "      <td>0.819232</td>\n",
       "    </tr>\n",
       "    <tr>\n",
       "      <th>min</th>\n",
       "      <td>4.300000</td>\n",
       "      <td>2.000000</td>\n",
       "      <td>1.000000</td>\n",
       "      <td>0.100000</td>\n",
       "      <td>0.000000</td>\n",
       "    </tr>\n",
       "    <tr>\n",
       "      <th>25%</th>\n",
       "      <td>5.100000</td>\n",
       "      <td>2.800000</td>\n",
       "      <td>1.600000</td>\n",
       "      <td>0.300000</td>\n",
       "      <td>0.000000</td>\n",
       "    </tr>\n",
       "    <tr>\n",
       "      <th>50%</th>\n",
       "      <td>5.800000</td>\n",
       "      <td>3.000000</td>\n",
       "      <td>4.350000</td>\n",
       "      <td>1.300000</td>\n",
       "      <td>1.000000</td>\n",
       "    </tr>\n",
       "    <tr>\n",
       "      <th>75%</th>\n",
       "      <td>6.400000</td>\n",
       "      <td>3.300000</td>\n",
       "      <td>5.100000</td>\n",
       "      <td>1.800000</td>\n",
       "      <td>2.000000</td>\n",
       "    </tr>\n",
       "    <tr>\n",
       "      <th>max</th>\n",
       "      <td>7.900000</td>\n",
       "      <td>4.400000</td>\n",
       "      <td>6.900000</td>\n",
       "      <td>2.500000</td>\n",
       "      <td>2.000000</td>\n",
       "    </tr>\n",
       "  </tbody>\n",
       "</table>\n",
       "</div>"
      ],
      "text/plain": [
       "       sepal length (cm)  sepal width (cm)  petal length (cm)  \\\n",
       "count         150.000000        150.000000         150.000000   \n",
       "mean            5.843333          3.054000           3.758667   \n",
       "std             0.828066          0.433594           1.764420   \n",
       "min             4.300000          2.000000           1.000000   \n",
       "25%             5.100000          2.800000           1.600000   \n",
       "50%             5.800000          3.000000           4.350000   \n",
       "75%             6.400000          3.300000           5.100000   \n",
       "max             7.900000          4.400000           6.900000   \n",
       "\n",
       "       petal width (cm)       class  \n",
       "count        150.000000  150.000000  \n",
       "mean           1.198667    1.000000  \n",
       "std            0.763161    0.819232  \n",
       "min            0.100000    0.000000  \n",
       "25%            0.300000    0.000000  \n",
       "50%            1.300000    1.000000  \n",
       "75%            1.800000    2.000000  \n",
       "max            2.500000    2.000000  "
      ]
     },
     "execution_count": 10,
     "metadata": {},
     "output_type": "execute_result"
    }
   ],
   "source": [
    "df.describe()"
   ]
  },
  {
   "cell_type": "markdown",
   "metadata": {
    "nbpresent": {
     "id": "89b0016f-6468-42d2-afec-72f904c56981"
    }
   },
   "source": [
    "It is important to note here that since the column 'class' represents a label and not actually a number, it has no meaning to look at it's descriptive stats. "
   ]
  }
 ],
 "metadata": {
  "anaconda-cloud": {},
  "kernelspec": {
   "display_name": "Python [Root]",
   "language": "python",
   "name": "Python [Root]"
  },
  "language_info": {
   "codemirror_mode": {
    "name": "ipython",
    "version": 3
   },
   "file_extension": ".py",
   "mimetype": "text/x-python",
   "name": "python",
   "nbconvert_exporter": "python",
   "pygments_lexer": "ipython3",
   "version": "3.5.1"
  },
  "nbpresent": {
   "slides": {
    "0c35c8a2-8a6d-4bf6-b604-d0cb62fb053e": {
     "id": "0c35c8a2-8a6d-4bf6-b604-d0cb62fb053e",
     "prev": "d3418cb3-c03d-45da-9e1b-7b8dc10e51b7",
     "regions": {
      "85a78ec3-f06c-4bf7-ace2-86bffafdd804": {
       "attrs": {
        "height": 0.8,
        "width": 0.8,
        "x": 0.1,
        "y": 0.1
       },
       "content": {
        "cell": "e01f8a77-4498-4a8a-9298-e6fac6a5d19c",
        "part": "whole"
       },
       "id": "85a78ec3-f06c-4bf7-ace2-86bffafdd804"
      }
     }
    },
    "18e96f3c-c706-4410-a60b-e893d0a7f30e": {
     "id": "18e96f3c-c706-4410-a60b-e893d0a7f30e",
     "prev": "50e3c16d-01d1-47ff-970b-a9e2ddabed04",
     "regions": {
      "c5df1dfa-ac8f-4aa7-b1fb-f7d06afa4b55": {
       "attrs": {
        "height": 0.8,
        "width": 0.8,
        "x": 0.1,
        "y": 0.1
       },
       "content": {
        "cell": "0f40079f-c3b2-4972-b022-88f73dbb3fe3",
        "part": "whole"
       },
       "id": "c5df1dfa-ac8f-4aa7-b1fb-f7d06afa4b55"
      }
     }
    },
    "24c23fb1-352f-4c23-b5bf-f2bd6d60e4e8": {
     "id": "24c23fb1-352f-4c23-b5bf-f2bd6d60e4e8",
     "prev": "49b1760e-231b-4839-8953-0dda2e9616ad",
     "regions": {
      "c451e0e5-1190-43ce-baef-72ba5ea46f14": {
       "attrs": {
        "height": 0.8,
        "width": 0.8,
        "x": 0.1,
        "y": 0.1
       },
       "content": {
        "cell": "89b0016f-6468-42d2-afec-72f904c56981",
        "part": "whole"
       },
       "id": "c451e0e5-1190-43ce-baef-72ba5ea46f14"
      }
     }
    },
    "34381a86-2954-43dc-a46c-c45de9f0165d": {
     "id": "34381a86-2954-43dc-a46c-c45de9f0165d",
     "prev": "cd0ded50-0c3c-4e11-a019-d0f9b0c01d35",
     "regions": {
      "288e0546-9648-4da4-97f6-4499e06120b3": {
       "attrs": {
        "height": 0.8,
        "width": 0.8,
        "x": 0.1,
        "y": 0.1
       },
       "content": {
        "cell": "fd247d83-46da-4f7d-b90f-d0e738166311",
        "part": "whole"
       },
       "id": "288e0546-9648-4da4-97f6-4499e06120b3"
      }
     }
    },
    "49b1760e-231b-4839-8953-0dda2e9616ad": {
     "id": "49b1760e-231b-4839-8953-0dda2e9616ad",
     "prev": "f670555d-2818-4093-a5af-4a6467f87a1e",
     "regions": {
      "20ad3b55-f828-48e1-bda1-41988900b26d": {
       "attrs": {
        "height": 0.8,
        "width": 0.8,
        "x": 0.1,
        "y": 0.1
       },
       "content": {
        "cell": "25f20ba2-cedf-4c5b-b9c6-119dbc18ae40",
        "part": "whole"
       },
       "id": "20ad3b55-f828-48e1-bda1-41988900b26d"
      }
     }
    },
    "49c1ece1-dc2a-4514-9146-abc1f28b7467": {
     "id": "49c1ece1-dc2a-4514-9146-abc1f28b7467",
     "prev": "8506223f-05ba-471c-a3ee-37e7ade01b15",
     "regions": {
      "d7f5378b-7e4d-43f6-8af1-d8b1cfb1827a": {
       "attrs": {
        "height": 0.8,
        "width": 0.8,
        "x": 0.1,
        "y": 0.1
       },
       "content": {
        "cell": "26623631-3cc3-4767-9824-6bdbf217a235",
        "part": "whole"
       },
       "id": "d7f5378b-7e4d-43f6-8af1-d8b1cfb1827a"
      }
     }
    },
    "4b081ba4-b8d2-48f2-ae1b-2cb6c7790b9c": {
     "id": "4b081ba4-b8d2-48f2-ae1b-2cb6c7790b9c",
     "prev": "bb1035c8-f4e5-485f-9f4d-318bd99a426d",
     "regions": {
      "a5a8b265-8bda-4f4c-9f51-ef3a3bea4b08": {
       "attrs": {
        "height": 0.8,
        "width": 0.8,
        "x": 0.1,
        "y": 0.1
       },
       "content": {
        "cell": "664a05bc-3eb7-4043-b7f9-83795e174e02",
        "part": "whole"
       },
       "id": "a5a8b265-8bda-4f4c-9f51-ef3a3bea4b08"
      }
     }
    },
    "4ed1fe0a-c8bc-44fd-af35-029dfd7eaab4": {
     "id": "4ed1fe0a-c8bc-44fd-af35-029dfd7eaab4",
     "prev": "34381a86-2954-43dc-a46c-c45de9f0165d",
     "regions": {
      "aba70dfc-4637-499f-a461-18b6b0707250": {
       "attrs": {
        "height": 0.8,
        "width": 0.8,
        "x": 0.1,
        "y": 0.1
       },
       "content": {
        "cell": "cae40ab2-96a4-4c06-9ede-e206ec885f3e",
        "part": "whole"
       },
       "id": "aba70dfc-4637-499f-a461-18b6b0707250"
      }
     }
    },
    "50e3c16d-01d1-47ff-970b-a9e2ddabed04": {
     "id": "50e3c16d-01d1-47ff-970b-a9e2ddabed04",
     "prev": "908c0bec-d6a0-47b9-943e-e8dfafbe2f5b",
     "regions": {
      "e57a7caf-ee77-431a-97e2-74c13b2fbb2a": {
       "attrs": {
        "height": 0.8,
        "width": 0.8,
        "x": 0.1,
        "y": 0.1
       },
       "content": {
        "cell": "6f3af43a-2399-44bd-b33c-117262a8c32a",
        "part": "whole"
       },
       "id": "e57a7caf-ee77-431a-97e2-74c13b2fbb2a"
      }
     }
    },
    "5ed7c431-fea5-4cba-9f7f-0c038c00d1ac": {
     "id": "5ed7c431-fea5-4cba-9f7f-0c038c00d1ac",
     "prev": "8767d77e-bbfc-4917-8a93-b923d5ba8dd4",
     "regions": {
      "4e1901df-16ee-4937-8e0b-480c2bcf524f": {
       "attrs": {
        "height": 0.8,
        "width": 0.8,
        "x": 0.1,
        "y": 0.1
       },
       "content": {
        "cell": "05cb2dc6-ee7c-4bd7-89f2-7e8a0ccfc282",
        "part": "whole"
       },
       "id": "4e1901df-16ee-4937-8e0b-480c2bcf524f"
      }
     }
    },
    "6e945e3f-fc3e-40f0-a30c-3bee4d52951b": {
     "id": "6e945e3f-fc3e-40f0-a30c-3bee4d52951b",
     "prev": "0c35c8a2-8a6d-4bf6-b604-d0cb62fb053e",
     "regions": {
      "bb421f42-709d-4d8e-a8a4-44e8b41a2860": {
       "attrs": {
        "height": 0.8,
        "width": 0.8,
        "x": 0.1,
        "y": 0.1
       },
       "content": {
        "cell": "2058a439-6bb4-42c8-9d0a-4eb3fd92a66e",
        "part": "whole"
       },
       "id": "bb421f42-709d-4d8e-a8a4-44e8b41a2860"
      }
     }
    },
    "70576aea-af6f-4a20-b4d5-c8906660298d": {
     "id": "70576aea-af6f-4a20-b4d5-c8906660298d",
     "prev": "5ed7c431-fea5-4cba-9f7f-0c038c00d1ac",
     "regions": {
      "6c70c0fc-49e8-4d26-8b0f-b65996509524": {
       "attrs": {
        "height": 0.8,
        "width": 0.8,
        "x": 0.1,
        "y": 0.1
       },
       "content": {
        "cell": "566aca1a-1b03-4069-b8ab-77b90fdf2932",
        "part": "whole"
       },
       "id": "6c70c0fc-49e8-4d26-8b0f-b65996509524"
      }
     }
    },
    "72263db1-5632-490d-b105-a2d00a603057": {
     "id": "72263db1-5632-490d-b105-a2d00a603057",
     "prev": "70576aea-af6f-4a20-b4d5-c8906660298d",
     "regions": {
      "262f0561-b992-48a6-ba8d-aaf7c9b8f675": {
       "attrs": {
        "height": 0.8,
        "width": 0.8,
        "x": 0.1,
        "y": 0.1
       },
       "content": {
        "cell": "8678a7e7-31c5-4e65-aa67-e95d61137143",
        "part": "whole"
       },
       "id": "262f0561-b992-48a6-ba8d-aaf7c9b8f675"
      }
     }
    },
    "8506223f-05ba-471c-a3ee-37e7ade01b15": {
     "id": "8506223f-05ba-471c-a3ee-37e7ade01b15",
     "prev": null,
     "regions": {
      "6e61e060-c25e-4d10-abac-ec1dedf5a578": {
       "attrs": {
        "height": 0.8,
        "width": 0.8,
        "x": 0.1,
        "y": 0.1
       },
       "content": {
        "cell": "5546ffe4-773e-4a4c-8fba-6ba198490eea",
        "part": "whole"
       },
       "id": "6e61e060-c25e-4d10-abac-ec1dedf5a578"
      }
     }
    },
    "8767d77e-bbfc-4917-8a93-b923d5ba8dd4": {
     "id": "8767d77e-bbfc-4917-8a93-b923d5ba8dd4",
     "prev": "18e96f3c-c706-4410-a60b-e893d0a7f30e",
     "regions": {
      "adc17907-906f-4fba-b2e9-efba9990ef8f": {
       "attrs": {
        "height": 0.8,
        "width": 0.8,
        "x": 0.1,
        "y": 0.1
       },
       "content": {
        "cell": "972a76c5-d767-415a-b9ae-eed02d2ba7b9",
        "part": "whole"
       },
       "id": "adc17907-906f-4fba-b2e9-efba9990ef8f"
      }
     }
    },
    "908c0bec-d6a0-47b9-943e-e8dfafbe2f5b": {
     "id": "908c0bec-d6a0-47b9-943e-e8dfafbe2f5b",
     "prev": "b47c4d8c-da6b-492e-be08-73302943cd93",
     "regions": {
      "2184c585-bfd1-459c-bf6a-4011d9ac174b": {
       "attrs": {
        "height": 0.8,
        "width": 0.8,
        "x": 0.1,
        "y": 0.1
       },
       "content": {
        "cell": "5b6b16c2-11f3-4222-93dc-c6f15b521935",
        "part": "whole"
       },
       "id": "2184c585-bfd1-459c-bf6a-4011d9ac174b"
      }
     }
    },
    "b47c4d8c-da6b-492e-be08-73302943cd93": {
     "id": "b47c4d8c-da6b-492e-be08-73302943cd93",
     "prev": "4b081ba4-b8d2-48f2-ae1b-2cb6c7790b9c",
     "regions": {
      "8a685530-51d0-4ec9-80b3-32ce447ad00a": {
       "attrs": {
        "height": 0.8,
        "width": 0.8,
        "x": 0.1,
        "y": 0.1
       },
       "content": {
        "cell": "aee428fc-8ed8-4245-bc18-80b280cced16",
        "part": "whole"
       },
       "id": "8a685530-51d0-4ec9-80b3-32ce447ad00a"
      }
     }
    },
    "bb1035c8-f4e5-485f-9f4d-318bd99a426d": {
     "id": "bb1035c8-f4e5-485f-9f4d-318bd99a426d",
     "prev": "6e945e3f-fc3e-40f0-a30c-3bee4d52951b",
     "regions": {
      "c1a9afc2-f167-488a-9efa-785bdf38a3eb": {
       "attrs": {
        "height": 0.8,
        "width": 0.8,
        "x": 0.1,
        "y": 0.1
       },
       "content": {
        "cell": "3c258272-cfa9-4bc3-b01b-bb536f914bb4",
        "part": "whole"
       },
       "id": "c1a9afc2-f167-488a-9efa-785bdf38a3eb"
      }
     }
    },
    "cd0ded50-0c3c-4e11-a019-d0f9b0c01d35": {
     "id": "cd0ded50-0c3c-4e11-a019-d0f9b0c01d35",
     "prev": "72263db1-5632-490d-b105-a2d00a603057",
     "regions": {
      "462ea44c-b9a4-4cbd-aea1-2d5238bac383": {
       "attrs": {
        "height": 0.8,
        "width": 0.8,
        "x": 0.1,
        "y": 0.1
       },
       "content": {
        "cell": "a4459105-026b-4fb3-b3db-3c9de638762e",
        "part": "whole"
       },
       "id": "462ea44c-b9a4-4cbd-aea1-2d5238bac383"
      }
     }
    },
    "d3418cb3-c03d-45da-9e1b-7b8dc10e51b7": {
     "id": "d3418cb3-c03d-45da-9e1b-7b8dc10e51b7",
     "prev": "49c1ece1-dc2a-4514-9146-abc1f28b7467",
     "regions": {
      "f36616c6-2ebe-4dd1-9d7c-ebcf722a2071": {
       "attrs": {
        "height": 0.8,
        "width": 0.8,
        "x": 0.1,
        "y": 0.1
       },
       "content": {
        "cell": "4dcacff1-68c1-4074-a2ea-66f897860729",
        "part": "whole"
       },
       "id": "f36616c6-2ebe-4dd1-9d7c-ebcf722a2071"
      }
     }
    },
    "f670555d-2818-4093-a5af-4a6467f87a1e": {
     "id": "f670555d-2818-4093-a5af-4a6467f87a1e",
     "prev": "4ed1fe0a-c8bc-44fd-af35-029dfd7eaab4",
     "regions": {
      "32695e0b-1ab3-496e-b4ac-c54d7879737c": {
       "attrs": {
        "height": 0.8,
        "width": 0.8,
        "x": 0.1,
        "y": 0.1
       },
       "content": {
        "cell": "5f0be92c-47c8-4529-93af-c958e00a1c3a",
        "part": "whole"
       },
       "id": "32695e0b-1ab3-496e-b4ac-c54d7879737c"
      }
     }
    }
   },
   "themes": {}
  }
 },
 "nbformat": 4,
 "nbformat_minor": 0
}
