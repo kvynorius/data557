{
 "cells": [
  {
   "cell_type": "markdown",
   "metadata": {},
   "source": [
    "# Libraries or: packages and modules\n",
    "---\n",
    "The real power of Python (and any other OS language, for that matter) lies in it's libraries. There are so many high-quality, well documented libraries that in Python, you can seemingly do anything. As of the writing of this lecture, there are ***89768*** libraries available on pypi.\n",
    "\n",
    "In Python, libraries are called modules. A collection of modules is called a package. This is just jargon. \n",
    "\n",
    "We will cover:\n",
    "\n",
    "Topic | Method\n",
    "-|-\n",
    "[libraries](#Libraries)|built-in & 3rd party\n",
    "[importing the module](#Importing-the-module)|`import statistics`\n",
    "[importing the module with alias](#Importing-module-with-alias)|`import statistics as st`\n",
    "[importing specific functions from module](#Importing-specific-functions-from-module)|`from statistics import mean`\n",
    "[package managers](#Package-managers)|`pip`, `conda` & `conda-forge`\n",
    "\n",
    "Creating a package will be covered in a future lecture\n",
    "\n",
    "## *Resources*\n",
    "[The Python Standard Library](https://docs.python.org/3/library/) <br>\n",
    "[Pypi](https://pypi.python.org/pypi) <br>\n",
    "[conda-forge](https://conda-forge.github.io/)\n",
    "\n",
    "---"
   ]
  },
  {
   "cell_type": "code",
   "execution_count": 1,
   "metadata": {
    "collapsed": false
   },
   "outputs": [
    {
     "name": "stdout",
     "output_type": "stream",
     "text": [
      "Alexander C Booth \n",
      "\n",
      "CPython 3.5.1\n",
      "IPython 4.2.0\n",
      "\n",
      "statistics n\u0007\n",
      "\n",
      "compiler   : GCC 4.2.1 Compatible Apple LLVM 4.2 (clang-425.0.28)\n",
      "system     : Darwin\n",
      "release    : 16.0.0\n",
      "machine    : x86_64\n",
      "processor  : i386\n",
      "CPU cores  : 4\n",
      "interpreter: 64bit\n"
     ]
    }
   ],
   "source": [
    "%load_ext watermark\n",
    "%watermark -a 'Alexander C Booth' -mv -p statistics"
   ]
  },
  {
   "cell_type": "markdown",
   "metadata": {},
   "source": [
    "### Libraries\n",
    "There are two types of libraries you will deal with in Python: built-in and 3rd party.\n",
    "\n",
    "#### Built-in\n",
    ">Python’s standard library is very extensive, offering a wide range of facilities as indicated by the long table of contents listed below. The library contains built-in modules (written in C) that provide access to system functionality such as file I/O that would otherwise be inaccessible to Python programmers, as well as modules written in Python that provide standardized solutions for many problems that occur in everyday programming. Some of these modules are explicitly designed to encourage and enhance the portability of Python programs by abstracting away platform-specifics into platform-neutral APIs. -- Python Standard Library Website\n",
    "\n",
    "Out-of-the-box vanilla Python comes standard with many excellent resources to extend the langauge. For example, the built-in library **statistics** can compute many common descriptive statistics. We will use this below. \n",
    "\n",
    "#### 3rd party\n",
    "This is where Python really excels. Need a library to help you with data science? With Astronomy? With web development? With cryptography? With image processing? With audio processing? With literally anything you can imagine? Well, not only does it likely exist, but you can get it, for free, immediately. And you can hack it."
   ]
  },
  {
   "cell_type": "markdown",
   "metadata": {},
   "source": [
    "## Importing\n",
    "\n",
    "### Importing the module\n",
    "The first way we will import a module is by importing it's namespace. This means we will then be able to call classes and functions defined in the module by using a \".\". For example, if we import `statistics` into the namespace, we can then call it's `mean()` function. We will use it to compute the mean of the list `[2,3,4]`. "
   ]
  },
  {
   "cell_type": "code",
   "execution_count": 2,
   "metadata": {
    "collapsed": false
   },
   "outputs": [],
   "source": [
    "import statistics"
   ]
  },
  {
   "cell_type": "code",
   "execution_count": 3,
   "metadata": {
    "collapsed": false
   },
   "outputs": [
    {
     "data": {
      "text/plain": [
       "3.0"
      ]
     },
     "execution_count": 3,
     "metadata": {},
     "output_type": "execute_result"
    }
   ],
   "source": [
    "statistics.mean([2,3,4])"
   ]
  },
  {
   "cell_type": "markdown",
   "metadata": {},
   "source": [
    "### Importing module with alias\n",
    "We can also import the namespace and assign it a different (shorter, more convenient) name. For example, instead of importing statistics (`import statistics`), we could `import statistics as st`. This will then make calling methods functions and methods easier. "
   ]
  },
  {
   "cell_type": "code",
   "execution_count": 4,
   "metadata": {
    "collapsed": true
   },
   "outputs": [],
   "source": [
    "import statistics as st"
   ]
  },
  {
   "cell_type": "code",
   "execution_count": 5,
   "metadata": {
    "collapsed": false
   },
   "outputs": [
    {
     "data": {
      "text/plain": [
       "3.0"
      ]
     },
     "execution_count": 5,
     "metadata": {},
     "output_type": "execute_result"
    }
   ],
   "source": [
    "st.mean([2,3,4])"
   ]
  },
  {
   "cell_type": "markdown",
   "metadata": {},
   "source": [
    "### Importing specific functions from module\n",
    "The syntxa here is `from <package> import <some function we want>`. Below we will import the `mean()` function from the module statistics and use it."
   ]
  },
  {
   "cell_type": "code",
   "execution_count": 6,
   "metadata": {
    "collapsed": true
   },
   "outputs": [],
   "source": [
    "from statistics import mean"
   ]
  },
  {
   "cell_type": "code",
   "execution_count": 7,
   "metadata": {
    "collapsed": false
   },
   "outputs": [
    {
     "data": {
      "text/plain": [
       "3.0"
      ]
     },
     "execution_count": 7,
     "metadata": {},
     "output_type": "execute_result"
    }
   ],
   "source": [
    "mean([2,3,4])"
   ]
  },
  {
   "cell_type": "markdown",
   "metadata": {},
   "source": [
    "### Importing everything\n",
    "Sometimes you may wish to import all the functions from a module into the name space. This might not happen that often, especially for large scale packages like [scikit-learn](https://github.com/scikit-learn/scikit-learn) (for machine learning), but for smaller or custom built packages, it might. In other words, since the module `statistics` has function other than mean (e.g. `median()`, `mode()`...), we could import these all at once by using the wildcard character `*` that represents 'all'.  "
   ]
  },
  {
   "cell_type": "code",
   "execution_count": 8,
   "metadata": {
    "collapsed": false
   },
   "outputs": [
    {
     "ename": "NameError",
     "evalue": "name 'median' is not defined",
     "output_type": "error",
     "traceback": [
      "\u001b[0;31m---------------------------------------------------------------------------\u001b[0m",
      "\u001b[0;31mNameError\u001b[0m                                 Traceback (most recent call last)",
      "\u001b[0;32m<ipython-input-8-67e85f892089>\u001b[0m in \u001b[0;36m<module>\u001b[0;34m()\u001b[0m\n\u001b[0;32m----> 1\u001b[0;31m \u001b[0mmedian\u001b[0m\u001b[0;34m(\u001b[0m\u001b[0;34m[\u001b[0m\u001b[0;36m2\u001b[0m\u001b[0;34m,\u001b[0m\u001b[0;36m3\u001b[0m\u001b[0;34m,\u001b[0m\u001b[0;36m4\u001b[0m\u001b[0;34m]\u001b[0m\u001b[0;34m)\u001b[0m\u001b[0;34m\u001b[0m\u001b[0m\n\u001b[0m",
      "\u001b[0;31mNameError\u001b[0m: name 'median' is not defined"
     ]
    }
   ],
   "source": [
    "median([2,3,4])"
   ]
  },
  {
   "cell_type": "code",
   "execution_count": 9,
   "metadata": {
    "collapsed": false
   },
   "outputs": [],
   "source": [
    "from statistics import * # This means, from the package \"statistics\", import EVERYTHING!"
   ]
  },
  {
   "cell_type": "code",
   "execution_count": 10,
   "metadata": {
    "collapsed": false
   },
   "outputs": [
    {
     "data": {
      "text/plain": [
       "3"
      ]
     },
     "execution_count": 10,
     "metadata": {},
     "output_type": "execute_result"
    }
   ],
   "source": [
    "median([2,3,4])"
   ]
  },
  {
   "cell_type": "markdown",
   "metadata": {},
   "source": [
    "### Package managers\n",
    "In Python, your standard installation will come with the PIP, the most popular package manager. You can use pip to install any Python package hosted on [Pypi](https://pypi.python.org/pypi), or even hosted directly on [GitHub](http://github.com)."
   ]
  },
  {
   "cell_type": "markdown",
   "metadata": {},
   "source": [
    "### pip\n",
    "You can list what packages you have installed by running `pip freeze` in the terminal. Below is a sample output from that. "
   ]
  },
  {
   "cell_type": "markdown",
   "metadata": {},
   "source": [
    "#### List all packages with pip"
   ]
  },
  {
   "cell_type": "code",
   "execution_count": 11,
   "metadata": {
    "collapsed": false
   },
   "outputs": [
    {
     "name": "stdout",
     "output_type": "stream",
     "text": [
      "alabaster==0.7.8\r\n",
      "alembic==0.8.6\r\n",
      "altair==1.0.0\r\n",
      "anaconda-client==1.4.0\r\n",
      "anaconda-navigator==1.2.1\r\n",
      "aniso8601==1.1.0\r\n",
      "appnope==0.1.0\r\n",
      "appscript==1.0.1\r\n",
      "argcomplete==1.0.0\r\n",
      "astropy==1.2.1\r\n",
      "Babel==2.3.3\r\n",
      "backports.shutil-get-terminal-size==1.0.0\r\n",
      "beautifulsoup4==4.4.1\r\n",
      "bitarray==0.8.1\r\n",
      "blaze==0.9.1\r\n",
      "blinker==1.4\r\n",
      "bokeh==0.12.1\r\n",
      "boto==2.40.0\r\n",
      "boto3==1.3.1\r\n",
      "botocore==1.4.41\r\n",
      "Bottleneck==1.0.0\r\n",
      "boxsdk==1.5.3\r\n",
      "brewer2mpl==1.4.1\r\n",
      "caravel==0.9.1\r\n",
      "cffi==1.6.0\r\n",
      "chest==0.2.3\r\n",
      "click==6.6\r\n",
      "click-plugins==1.0.3\r\n",
      "cligj==0.4.0\r\n",
      "cloudpickle==0.2.1\r\n",
      "clyent==1.2.2\r\n",
      "colorama==0.3.7\r\n",
      "conda==4.1.11\r\n",
      "conda-build==0+unknown\r\n",
      "conda-env==2.5.0a0\r\n",
      "conda-manager==0.3.1\r\n",
      "configobj==5.0.6\r\n",
      "contextlib2==0.5.3\r\n",
      "coverage==4.1\r\n",
      "cryptography==1.1.1\r\n",
      "cycler==0.10.0\r\n",
      "cyordereddict==1.0.0\r\n",
      "Cython==0.24\r\n",
      "cytoolz==0.8.0\r\n",
      "dask==0.10.2\r\n",
      "datashader==0.3.2\r\n",
      "datashape==0.5.2\r\n",
      "decorator==4.0.10\r\n",
      "defusedxml==0.4.1\r\n",
      "descartes==1.0.2\r\n",
      "dill==0.2.5\r\n",
      "distributed==1.11.3\r\n",
      "docopt==0.6.2\r\n",
      "docutils==0.12\r\n",
      "dynd==0.7.3.dev1\r\n",
      "enum34==1.1.6\r\n",
      "et-xmlfile==1.0.1\r\n",
      "fastcache==1.0.2\r\n",
      "feedparser==5.2.1\r\n",
      "findspark==1.0.0.dev0\r\n",
      "Fiona==1.7.0.post2\r\n",
      "Flask==0.11.1\r\n",
      "Flask-AppBuilder==1.7.1\r\n",
      "Flask-BabelPkg==0.9.6\r\n",
      "Flask-Cache==0.13.1\r\n",
      "Flask-Cors==2.1.2\r\n",
      "Flask-Login==0.2.11\r\n",
      "Flask-Mail==0.9.1\r\n",
      "Flask-Migrate==2.0.0\r\n",
      "Flask-OpenID==1.2.5\r\n",
      "Flask-RESTful==0.3.5\r\n",
      "Flask-Script==2.0.5\r\n",
      "Flask-SQLAlchemy==2.0\r\n",
      "Flask-Testing==0.5.0\r\n",
      "Flask-WTF==0.12\r\n",
      "flit==0.9\r\n",
      "future==0.15.2\r\n",
      "geopandas==0.2.1\r\n",
      "gevent==1.1.1\r\n",
      "gitdb==0.6.4\r\n",
      "GitPython==2.0.8\r\n",
      "gitsome==0.6.0\r\n",
      "gnureadline==6.3.3\r\n",
      "graphviz==0.5.1\r\n",
      "greenlet==0.4.10\r\n",
      "gunicorn==19.6.0\r\n",
      "h5netcdf==0.2.2\r\n",
      "h5py==2.6.0\r\n",
      "hdbscan==0.8\r\n",
      "HeapDict==1.0.0\r\n",
      "html5lib==0.9999999\r\n",
      "humanize==0.5.1\r\n",
      "idna==2.1\r\n",
      "imagesize==0.7.1\r\n",
      "inflection==0.3.1\r\n",
      "ipykernel==4.3.1\r\n",
      "ipyrmd==0.4.2\r\n",
      "ipython==4.2.0\r\n",
      "ipython-genutils==0.1.0\r\n",
      "ipywidgets==4.1.1\r\n",
      "itsdangerous==0.24\r\n",
      "jdcal==1.2\r\n",
      "jedi==0.9.0\r\n",
      "Jinja2==2.8\r\n",
      "jmespath==0.9.0\r\n",
      "joblib==0.8.4\r\n",
      "jsonschema==2.5.1\r\n",
      "jupyter==1.0.0\r\n",
      "jupyter-client==4.3.0\r\n",
      "jupyter-console==4.1.1\r\n",
      "jupyter-core==4.1.0\r\n",
      "Keras==1.0.3\r\n",
      "knowledge-repo==0.6.2\r\n",
      "llvmlite==0.12.1\r\n",
      "locket==0.2.0\r\n",
      "lockfile==0.12.2\r\n",
      "lxml==3.6.0\r\n",
      "Mako==1.0.4\r\n",
      "Markdown==2.6.6\r\n",
      "MarkupSafe==0.23\r\n",
      "matplotlib==1.5.2\r\n",
      "mistune==0.7.2\r\n",
      "mpld3==0.2\r\n",
      "mpmath==0.19\r\n",
      "msgpack-python==0.4.7\r\n",
      "multipledispatch==0.4.8\r\n",
      "munch==2.0.4\r\n",
      "nb-anacondacloud==1.1.0\r\n",
      "nb-conda==1.1.0\r\n",
      "nb-conda-kernels==1.0.3\r\n",
      "nbconvert==4.2.0\r\n",
      "nbformat==4.0.1\r\n",
      "nbgrader==0.3.0\r\n",
      "nbpresent==3.0.2\r\n",
      "nbteach==0.0.1\r\n",
      "netCDF4==1.2.4\r\n",
      "networkx==1.11\r\n",
      "nltk==3.2.1\r\n",
      "nose==1.3.7\r\n",
      "notebook==4.2.1\r\n",
      "numba==0.27.0\r\n",
      "numexpr==2.6.0\r\n",
      "numpy==1.11.1\r\n",
      "numpydoc==0.6.0\r\n",
      "odo==0.4.2\r\n",
      "openpyxl==2.3.2\r\n",
      "pandas==0.18.1\r\n",
      "pandocfilters==1.3.0\r\n",
      "panzer==1.0\r\n",
      "parsedatetime==2.0\r\n",
      "partd==0.3.4\r\n",
      "path.py==0.0.0\r\n",
      "pathlib2==2.1.0\r\n",
      "patsy==0.4.1\r\n",
      "pep8==1.7.0\r\n",
      "pexpect==4.0.1\r\n",
      "pickleshare==0.7.2\r\n",
      "Pillow==3.3.0\r\n",
      "ply==3.8\r\n",
      "Pollster==0.1.4\r\n",
      "prompt-toolkit==1.0.1\r\n",
      "protobuf==3.0.0b2\r\n",
      "psutil==4.3.0\r\n",
      "ptyprocess==0.5.1\r\n",
      "py==1.4.31\r\n",
      "pyasn1==0.1.9\r\n",
      "pycosat==0.6.1\r\n",
      "pycparser==2.14\r\n",
      "pycrypto==2.6.1\r\n",
      "pycurl==7.19.5.3\r\n",
      "pydotplus==2.0.2\r\n",
      "pydruid==0.3.0\r\n",
      "pyflakes==1.2.3\r\n",
      "Pygments==2.1.3\r\n",
      "PyJWT==1.4.2\r\n",
      "pymongo==3.2.2\r\n",
      "pyOpenSSL==16.0.0\r\n",
      "pyparsing==2.1.5\r\n",
      "pyproj==1.9.5.1\r\n",
      "pytest==2.9.2\r\n",
      "pytest-cov==2.2.1\r\n",
      "python-daemon==2.1.1\r\n",
      "python-dateutil==2.5.3\r\n",
      "python-editor==1.0.1\r\n",
      "python3-openid==3.0.10\r\n",
      "pytz==2016.4\r\n",
      "PyYAML==3.11\r\n",
      "pyzmq==15.2.0\r\n",
      "QtAwesome==0.3.2\r\n",
      "qtconsole==4.2.1\r\n",
      "QtPy==1.0.2\r\n",
      "redis==2.10.5\r\n",
      "requests==2.10.0\r\n",
      "requests-download==0.1.1\r\n",
      "requests-toolbelt==0.7.0\r\n",
      "rope-py3k==0.9.4.post1\r\n",
      "ruamel-yaml===-VERSION\r\n",
      "s3fs==0.0.6\r\n",
      "scikit-image==0.12.3\r\n",
      "scikit-learn==0.17.1\r\n",
      "scipy==0.18.0\r\n",
      "selenium==2.53.5\r\n",
      "Shapely==1.5.16\r\n",
      "simplegeneric==0.8.1\r\n",
      "simplejson==3.8.2\r\n",
      "singledispatch==3.4.0.3\r\n",
      "six==1.10.0\r\n",
      "slackclient==1.0.1\r\n",
      "smmap==0.9.0\r\n",
      "snowballstemmer==1.2.1\r\n",
      "sockjs-tornado==1.0.3\r\n",
      "speaklater==1.3\r\n",
      "Sphinx==1.4.1\r\n",
      "sphinx-rtd-theme==0.1.9\r\n",
      "spyder==2.3.9\r\n",
      "SQLAlchemy==1.0.13\r\n",
      "SQLAlchemy-Utils==0.32.7\r\n",
      "sqlparse==0.1.19\r\n",
      "statsmodels==0.6.1\r\n",
      "sympy==1.0\r\n",
      "tables==3.2.2\r\n",
      "tabulate==0.7.5\r\n",
      "tblib==1.3.0\r\n",
      "tensorflow==0.8.0\r\n",
      "terminado==0.6\r\n",
      "Theano==0.8.2\r\n",
      "toolz==0.8.0\r\n",
      "toree==0.1.0.dev8\r\n",
      "tornado==4.3\r\n",
      "traitlets==4.2.1\r\n",
      "twitter==1.17.1\r\n",
      "unicodecsv==0.14.1\r\n",
      "uritemplate.py==0.3.0\r\n",
      "vega==0.4.2\r\n",
      "-e git+https://github.com/rasbt/watermark@df20a69aa92049b7433274f32a46a40baa7d108a#egg=watermark\r\n",
      "wcwidth==0.1.6\r\n",
      "websocket-client==0.37.0\r\n",
      "Werkzeug==0.11.10\r\n",
      "WTForms==2.1\r\n",
      "xarray==0.7.2\r\n",
      "xgboost==0.4\r\n",
      "xlrd==1.0.0\r\n",
      "XlsxWriter==0.9.2\r\n",
      "xlwings==0.7.2\r\n",
      "xlwt==1.1.2\r\n"
     ]
    }
   ],
   "source": [
    "!pip freeze"
   ]
  },
  {
   "cell_type": "markdown",
   "metadata": {},
   "source": [
    "#### Installing a package with pip\n",
    "We can install a package with the following syntax. Let's say we want to install scikit-learn from PYPI, we can simply enter into the termainl: `pip install scikit-learn`."
   ]
  }
 ],
 "metadata": {
  "anaconda-cloud": {},
  "kernelspec": {
   "display_name": "Python [Root]",
   "language": "python",
   "name": "Python [Root]"
  },
  "language_info": {
   "codemirror_mode": {
    "name": "ipython",
    "version": 3
   },
   "file_extension": ".py",
   "mimetype": "text/x-python",
   "name": "python",
   "nbconvert_exporter": "python",
   "pygments_lexer": "ipython3",
   "version": "3.5.1"
  }
 },
 "nbformat": 4,
 "nbformat_minor": 0
}
