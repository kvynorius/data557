{
 "cells": [
  {
   "cell_type": "markdown",
   "metadata": {
    "deletable": false,
    "nbgrader": {
     "checksum": "8914daf5b86e4dff5f95d09fd4358845",
     "grade": false,
     "grade_id": "II",
     "locked": true,
     "solution": false
    }
   },
   "source": [
    "## Assignment II\n",
    "In this assignment, we are going practice the pandas syntax.\n",
    "\n",
    "The structure of the assignment is written in terms of functions. This mean that you can validate your assignment at any time. You will contruct each answer in the form of a function. Each of these questions already has the prebuilt function syntax with doc string included that tells you what the function must accept and return. "
   ]
  },
  {
   "cell_type": "code",
   "execution_count": null,
   "metadata": {
    "collapsed": false
   },
   "outputs": [],
   "source": [
    "import pandas as pd\n",
    "df = pd.read_csv('../../data/ChiCrimes2001-present.csv')"
   ]
  },
  {
   "cell_type": "markdown",
   "metadata": {
    "deletable": false,
    "nbgrader": {
     "checksum": "6bc2df2460b883b660a02133f7e73182",
     "grade": false,
     "grade_id": "q1",
     "locked": true,
     "points": 1,
     "solution": false
    }
   },
   "source": [
    "### Q1 -- Shape\n",
    "What is the shape of this data? Using the cell below, fill in the code that will make the function `dfShape` take a dataframe as input and output the shape of that dataframe."
   ]
  },
  {
   "cell_type": "code",
   "execution_count": null,
   "metadata": {
    "collapsed": true,
    "deletable": false,
    "nbgrader": {
     "checksum": "b996a5157079376d5adb219edeef2487",
     "grade": false,
     "grade_id": "shape",
     "locked": false,
     "solution": true
    }
   },
   "outputs": [],
   "source": [
    "def dfShape(aDataframe):\n",
    "    \"\"\"Accepts any dataframe.\n",
    "    \n",
    "    Parameters\n",
    "    ----------\n",
    "    aDataframe : variable\n",
    "        The name of the dataframe\n",
    "        \n",
    "    Returns\n",
    "    -------\n",
    "    The shape of the dataframe. \n",
    "    \n",
    "    \"\"\"\n",
    "    # YOUR CODE HERE\n",
    "    \n",
    "    raise NotImplementedError()"
   ]
  },
  {
   "cell_type": "code",
   "execution_count": null,
   "metadata": {
    "collapsed": false,
    "deletable": false,
    "nbgrader": {
     "checksum": "5eea378f79345442560f9f87325df39f",
     "grade": true,
     "grade_id": "test_shape",
     "locked": true,
     "points": 1,
     "solution": false
    }
   },
   "outputs": [],
   "source": [
    "assert dfShape(df) == (100000, 22)"
   ]
  },
  {
   "cell_type": "markdown",
   "metadata": {
    "deletable": false,
    "nbgrader": {
     "checksum": "57e2b3599079646d204cc1515a218d9a",
     "grade": false,
     "grade_id": "q2",
     "locked": true,
     "solution": false
    }
   },
   "source": [
    "### Q2 -- Find a Row\n",
    "In this question, the task is to subset a particular row. Fill in your function below. It should, for example, be able to accept a dataframe and return row #8. \n",
    "\n",
    "**Hint**: perhaps look into the `.tolist()` method of a pandas column"
   ]
  },
  {
   "cell_type": "code",
   "execution_count": null,
   "metadata": {
    "collapsed": true,
    "deletable": false,
    "nbgrader": {
     "checksum": "41139498baaaa1d56ebc25ae8d3da373",
     "grade": false,
     "grade_id": "row",
     "locked": false,
     "solution": true
    }
   },
   "outputs": [],
   "source": [
    "def dfRownum(aDataframe, rownum):\n",
    "    \"\"\"Accepts a dataframe and row.\n",
    "    \n",
    "    Parameters\n",
    "    ----------\n",
    "    aDataframe : variable\n",
    "        The name of the dataframe\n",
    "    rownum : int\n",
    "        The row number to return.\n",
    "        \n",
    "    Returns\n",
    "    -------\n",
    "    A list containing the row specified.\n",
    "    \n",
    "    \"\"\"\n",
    "    # YOUR CODE HERE\n",
    "    raise NotImplementedError()"
   ]
  },
  {
   "cell_type": "code",
   "execution_count": null,
   "metadata": {
    "collapsed": true,
    "deletable": false,
    "nbgrader": {
     "checksum": "ac00f83203787c31c0833fba022a7d76",
     "grade": true,
     "grade_id": "test_row",
     "locked": true,
     "points": 2,
     "solution": false
    }
   },
   "outputs": [],
   "source": [
    "assert dfRownum(df, 13) == [6122609, 'HP216895', '03/09/2008 10:00:00 PM', '042XX N ALBANY AVE', '0610', 'BURGLARY', 'FORCIBLE ENTRY', 'RESIDENCE-GARAGE', False, False, 1724, 17.0, 33.0, 16.0, '05', 1154956.0, 1928079.0, 2008, '02/04/2016 06:33:39 AM', 41.958463250999998, -87.705714737000008, '(41.958463251, -87.705714737)']\n",
    "assert dfRownum(df, 72447) == [10484721, 'HZ224442', '04/13/2016 01:20:00 PM', '033XX W 63RD PL', '1020', 'ARSON', 'BY FIRE', 'STREET', False, False, 823, 8.0, 15.0, 66.0, '09', 1155321.0, 1862317.0, 2016, '04/20/2016 03:55:16 PM', 41.777997988000003, -87.706139267999987, '(41.777997988, -87.706139268)']"
   ]
  },
  {
   "cell_type": "markdown",
   "metadata": {
    "deletable": false,
    "nbgrader": {
     "checksum": "17e228c2b76b4944d0d0ef7609cdd3de",
     "grade": false,
     "grade_id": "q3",
     "locked": true,
     "solution": false
    }
   },
   "source": [
    "### Q3 -- Number of Crimes\n",
    "How many crimes of a particular crime type are there in this dataset? To answer this question, create a function that creates a pandas column of crime occurances.\n",
    "\n",
    "**Hint**: think about what `.value_counts()` method does. "
   ]
  },
  {
   "cell_type": "code",
   "execution_count": null,
   "metadata": {
    "collapsed": false,
    "deletable": false,
    "nbgrader": {
     "checksum": "7dc9453a046502b5434589ef7e64234f",
     "grade": false,
     "grade_id": "PrimeCrimes",
     "locked": false,
     "solution": true
    }
   },
   "outputs": [],
   "source": [
    "def dfPrmCrimes(aDataframe, crime):\n",
    "    \"\"\"Reads in the dataset file and returns an integer number of occurances for particular crime from variable primary type.\n",
    "    \n",
    "    Parameters\n",
    "    ----------\n",
    "    aDataframe : variable\n",
    "        The name of the dataframe\n",
    "    crime : string\n",
    "        The crime selected from the column \"Primary Type\"\n",
    "        \n",
    "    Returns\n",
    "    -------\n",
    "    An integer for the number of occurances of this crime.\n",
    "    \n",
    "    \"\"\"\n",
    "    # YOUR CODE HERE\n",
    "    raise NotImplementedError()"
   ]
  },
  {
   "cell_type": "code",
   "execution_count": null,
   "metadata": {
    "collapsed": false,
    "deletable": false,
    "nbgrader": {
     "checksum": "bacfb8068ed4b88747b9d24721a37d00",
     "grade": true,
     "grade_id": "test_PrmCrimes",
     "locked": true,
     "points": 5,
     "solution": false
    }
   },
   "outputs": [],
   "source": [
    "assert dfPrmCrimes(df, 'THEFT') == 20734\n",
    "assert dfPrmCrimes(df, 'HOMICIDE') == 116\n",
    "assert dfPrmCrimes(df, 'NARCOTICS') == 11234\n",
    "assert dfPrmCrimes(df, 'ROBBERY') == 3737\n",
    "assert dfPrmCrimes(df, 'LIQUOR LAW VIOLATION') == 231"
   ]
  },
  {
   "cell_type": "markdown",
   "metadata": {
    "deletable": false,
    "nbgrader": {
     "checksum": "e32e0a092b2aec77cabc30215ed0efd1",
     "grade": false,
     "grade_id": "q4",
     "locked": true,
     "solution": false
    }
   },
   "source": [
    "### Q4 -- Crime by Location\n",
    "In this question, we want to figure out how many occurances of a particular crime type there are at a particular type of location. For example, how many occurances of 'THEFT' were there in an alley? To answer this question, fill in the code in the function below that will take as input a dataframe, a crime and a location. "
   ]
  },
  {
   "cell_type": "code",
   "execution_count": null,
   "metadata": {
    "collapsed": false,
    "deletable": false,
    "nbgrader": {
     "checksum": "95551061699d331c15af554c1668d93e",
     "grade": false,
     "grade_id": "generalCrime",
     "locked": false,
     "solution": true
    }
   },
   "outputs": [],
   "source": [
    "def dfCrimeLoc(aDataframe, crime, location):\n",
    "    \"\"\"Reads in the dataset file and returns an integer number of occurances for particular crime from variable primary type.\n",
    "    \n",
    "    Parameters\n",
    "    ----------\n",
    "    aDataframe : variable\n",
    "        The name of the dataframe\n",
    "    crime : string\n",
    "        The crime selected from the column \"Primary Type\"\n",
    "    location : string\n",
    "        The location type selected from the \"Location Description\" column (e.g. 'STREET')\n",
    "        \n",
    "    Returns\n",
    "    -------\n",
    "    An integer for the number of occurances of this crime at this location type.\n",
    "    \n",
    "    \"\"\"\n",
    "    # YOUR CODE HERE\n",
    "    raise NotImplementedError()"
   ]
  },
  {
   "cell_type": "code",
   "execution_count": null,
   "metadata": {
    "collapsed": false,
    "deletable": false,
    "nbgrader": {
     "checksum": "4f758c85ed65522dbcae71fdd6c06467",
     "grade": true,
     "grade_id": "test_crimeloc",
     "locked": true,
     "points": 5,
     "solution": false
    }
   },
   "outputs": [],
   "source": [
    "assert dfCrimeLoc(df, 'theft', 'street') == 5668\n",
    "assert dfCrimeLoc(df, 'WEAPONS VIOLATION', 'SCHOOL, PUBLIC, BUILDING') == 90\n",
    "assert dfCrimeLoc(df, 'GAMBLING', 'SCHOOL, PUBLIC, BUILDING') == 3\n",
    "assert dfCrimeLoc(df, 'MOTOR VEHICLE THEFT', 'alley') == 90\n",
    "assert dfCrimeLoc(df, 'KIDNAPPING', 'SIDEWALK') == 15"
   ]
  },
  {
   "cell_type": "markdown",
   "metadata": {
    "deletable": false,
    "nbgrader": {
     "checksum": "e882a2715f0e0444de784374765fae81",
     "grade": false,
     "grade_id": "q5",
     "locked": true,
     "solution": false
    }
   },
   "source": [
    "### Q5 -- Crime by Year\n",
    "Now we want to know how many occurance of a particular crime there were in a particular year. Fill in the code below to create a function that accepts a dataframe, crime type and year and outputs the integer value for number of occurances of that crime in that year. "
   ]
  },
  {
   "cell_type": "code",
   "execution_count": null,
   "metadata": {
    "collapsed": false,
    "deletable": false,
    "nbgrader": {
     "checksum": "244ed88672c71f259207da6fccc9b50b",
     "grade": false,
     "grade_id": "crimebyyear",
     "locked": false,
     "solution": true
    },
    "scrolled": true
   },
   "outputs": [],
   "source": [
    "def dfCrimeByYear(aDataframe, crime, year):\n",
    "    \"\"\"Reads in the dataset file and returns an integer number of occurances for particular crime from variable primary type.\n",
    "    \n",
    "    Parameters\n",
    "    ----------\n",
    "    aDataframe : variable\n",
    "        The name of the dataframe\n",
    "    crime : string\n",
    "        The crime selected from the column \"Primary Type\"\n",
    "    year : year of crime as an integer\n",
    "    Returns\n",
    "    -------\n",
    "    An integer for the number of occurances of this crime at this location type.\n",
    "    \n",
    "    \"\"\"\n",
    "    # YOUR CODE HERE\n",
    "    raise NotImplementedError()"
   ]
  },
  {
   "cell_type": "code",
   "execution_count": null,
   "metadata": {
    "collapsed": false,
    "deletable": false,
    "nbgrader": {
     "checksum": "ad588ae800086f029140192d04affd4b",
     "grade": true,
     "grade_id": "test_crimebyyear",
     "locked": true,
     "points": 4,
     "solution": false
    }
   },
   "outputs": [],
   "source": [
    "assert dfCrimeByYear(df, 'arson', 2004) == 8\n",
    "assert dfCrimeByYear(df, 'gambling', 2015) == 3\n",
    "assert dfCrimeByYear(df, 'assault', 2015) == 241\n",
    "assert dfCrimeByYear(df, 'robbery', 2001) == 298"
   ]
  },
  {
   "cell_type": "markdown",
   "metadata": {
    "deletable": false,
    "nbgrader": {
     "checksum": "f245dd5dbc2bc9a9ced2ab563f5a0b72",
     "grade": false,
     "grade_id": "q6",
     "locked": true,
     "solution": false
    }
   },
   "source": [
    "### Q6 -- Crime over Time\n",
    "Now we want to modify the question above slightly to find out how many occurances of a particular crime there are over a range of years. Fill in the function below to create a function that accepts as input the dataframe, crime and range of years (in the form of a list of years) and outputs a list of the number of occurances of those crimes for those years. For example, dfCrimerange(df, 'robbery', [2001,2002]) should return [298, 303], meaning that in 2001, there were 298 robberies and in 2002, there were 303.\n",
    "\n",
    "**Hint**: use a for loop"
   ]
  },
  {
   "cell_type": "code",
   "execution_count": null,
   "metadata": {
    "collapsed": false,
    "deletable": false,
    "nbgrader": {
     "checksum": "2fa7bca91dd996ee592904a6a26d5ac6",
     "grade": false,
     "grade_id": "crime_range",
     "locked": false,
     "solution": true
    }
   },
   "outputs": [],
   "source": [
    "def dfCrimerange(aDataframe, crime, range_years):\n",
    "    \"\"\"Accepts a dataframe, a crime and a range of years (in the form of a list)\n",
    "\n",
    "    Parameters\n",
    "    ----------\n",
    "    aDataframe : variable\n",
    "        The name of the dataframe\n",
    "    crime : string\n",
    "        The crime selected from the column \"Primary Type\"\n",
    "    range_years : range of years\n",
    "    \n",
    "    Returns\n",
    "    -------\n",
    "    A list of the occurances for a particular crime for the range of years entered.\n",
    "    \n",
    "    \"\"\"\n",
    "    # YOUR CODE HERE\n",
    "    raise NotImplementedError()\n",
    "    "
   ]
  },
  {
   "cell_type": "code",
   "execution_count": null,
   "metadata": {
    "collapsed": false,
    "deletable": false,
    "nbgrader": {
     "checksum": "42cf75695a503058bd819aad970ca78c",
     "grade": true,
     "grade_id": "test_crime_range",
     "locked": true,
     "points": 2,
     "solution": false
    }
   },
   "outputs": [],
   "source": [
    "assert dfCrimerange(df, 'theft', range(2002,2008)) == [1593, 1624, 1612, 1344, 1443, 1418]\n",
    "assert dfCrimerange(df, 'robbery', [2001,2002]) == [298, 303]"
   ]
  }
 ],
 "metadata": {
  "anaconda-cloud": {},
  "kernelspec": {
   "display_name": "Python [default]",
   "language": "python",
   "name": "python3"
  },
  "language_info": {
   "codemirror_mode": {
    "name": "ipython",
    "version": 3
   },
   "file_extension": ".py",
   "mimetype": "text/x-python",
   "name": "python",
   "nbconvert_exporter": "python",
   "pygments_lexer": "ipython3",
   "version": "3.5.1"
  }
 },
 "nbformat": 4,
 "nbformat_minor": 0
}
