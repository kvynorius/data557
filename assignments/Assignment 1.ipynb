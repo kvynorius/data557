{
 "cells": [
  {
   "cell_type": "markdown",
   "metadata": {},
   "source": [
    "# Assignment I\n",
    "> We will use a subset of the 2016 Rio gold medal count collected by the fantastic Data Scientist/Data Visualization Designer [Nadieh Bremer](http://www.visualcinnamon.com/)\n",
    "\n",
    ">In this first assignment, we will use the tools we have developed so far to clean this dataset. \n",
    "1. Put the data into a list (it will be a list of dictionaries -- one for each record)\n",
    "2. Create a function to accept a string as input and return the same string without punctuation, make it lower case and remove the spaces\n",
    "3. Loop over the list and clean each value bound to the \"Athlete\" key\n",
    "4. Loop over the list and loop over the keys to clean them with the function created in step 2. \n",
    "\n",
    "Feel free to work together, but everyone must turn in the assignment individually. No copying from eachother -- this is easy to check on my end. \n",
    "\n",
    "Due date is ***Monday the 26th of Sept.***"
   ]
  },
  {
   "cell_type": "markdown",
   "metadata": {},
   "source": [
    "## Data\n",
    "```python\n",
    "{\"Athlete\":\"Max Whitlock\",\"Country\":\"United Kingdom\",\"Discipline\":\"Artistic G.\",\"Event\":\"Floor\"},{\"Athlete\":\"Simone Biles\",\"Country\":\"United States\",\"Discipline\":\"Artistic G,\",\"Event\":\"Floor Exercise\"},{\"Athlete\":\"Simone Biles\",\"Country\":\"United States\",\"Discipline\":\"Artistic G.\",\"Event\":\"Individual All-Around\"},{\"Athlete\":\"Max Whitlock\",\"Country\":\"United Kingdom\",\"Discipline\":\"Artistic G.\",\"Event\":\"Pommel Horse\"},{\"Athlete\":\"Simone Biles\",\"Country\":\"United States\",\"Discipline\":\"Artistic G.\",\"Event\":\"Vault\"},{\"Athlete\":\"Mohamed Farah\",\"Country\":\"United Kingdom\",\"Discipline\":\"Athletics\",\"Event\":\"10000m\"},{\"Athlete\":\"Usain Bolt\",\"Country\":\"Jamaica\",\"Discipline\":\"Athletics\",\"Event\":\"100m\"},{\"Athlete\":\"Elaine Thompson\",\"Country\":\"Jamaica\",\"Discipline\":\"Athletics\",\"Event\":\"100m\"},{\"Athlete\":\"Usain Bolt\",\"Country\":\"Jamaica\",\"Discipline\":\"Athletics\",\"Event\":\"200m\"},{\"Athlete\":\"Elaine Thompson\",\"Country\":\"Jamaica.\",\"Discipline\":\"Athletics\",\"Event\":\"200m\"},{\"Athlete\":\"Mohamed, Farah\",\"Country\":\"United Kingdom\",\"Discipline\":\"Athletics\",\"Event\":\"5000m\"},{\"Athlete\":\"Jason Kenny\",\"Country\":\"United Kingdom\",\"Discipline\":\"Cycling Track\",\"Event\":\"Keirin\"},{\"Athlete\":\"jAson Kenny\",\"Country\":\"United Kingdom\",\"Discipline\":\"Cycling Track\",\"Event\":\"Sprint\"},{\"Athlete\":\"Ryan Murphy\",\"Country\":\"United States\",\"Discipline\":\"Swimming\",\"Event\":\"100m Backstroke\"},{\"Athlete\":\"Katinka hosszu\",\"Country\":\"Hungary,\",\"Discipline\":\"Swimming\",\"Event\":\"100m Backstroke\"},{\"Athlete\":\"Simone Manuel\",\"Country\":\"United States\",\"Discipline\":\"Swimming\",\"Event\":\"100m Freestyle\"},{\"Athlete\":\"Penny Oleksiak\",\"Country\":\"Canada\",\"Discipline\":\"Swimming\",\"Event\":\"100m Freestyle\"},{\"Athlete\":\"Ryan Murphy\",\"Country\":\"United States\",\"Discipline\":\"swimming\",\"Event\":\"200m Backstroke\"},{\"Athlete\":\"Michael Phel.ps\",\"Country\":\"UnitedStates\",\"Discipline\":\"Swimming\",\"Event\":\"200m Butterfly\"},{\"Athlete\":\"Katie Ledecky\",\"Country\":\"United States\",\"Discipline\":\"Swimming\",\"Event\":\"200m Freestyle\"},{\"Athlete\":\"Michael Phelps\",\"Country\":\"United states\",\"Discipline\":\"Swimming\",\"Event\":\"200m Individual Medley\"},{\"Athlete\":\"Katinka Hosszu\",\"Country\":\"Hungary\",\"Discipline\":\"Swim.ming\",\"Event\":\"200m Individual Medley\"},{\"Athlete\":\"Katie Ledecky\",\"Country\":\"United States\",\"Discipline\":\"Swimming\",\"Event\":\"400m Freestyle\"},{\"Athlete\":\"KatinkaHosszu\",\"Country\":\"Hungary\",\"Discipline\":\"Swimming\",\"Event\":\"400m Individual Medley\"},{\"Athlete\":\"Katie Ledecky\",\"Country\":\"United States\",\"Discipline\":\"Swimming\",\"Event\":\"800m Freestyle\"}\n",
    "```"
   ]
  },
  {
   "cell_type": "markdown",
   "metadata": {},
   "source": [
    "### 1. Put data into list and store it in the variable named \"gold\""
   ]
  },
  {
   "cell_type": "code",
   "execution_count": null,
   "metadata": {
    "collapsed": true
   },
   "outputs": [],
   "source": []
  },
  {
   "cell_type": "markdown",
   "metadata": {},
   "source": [
    "### 2. Create a function, called `cleanFunction()`,  to clean the data of periods and commas, make it lower case and remove any blank spaces."
   ]
  },
  {
   "cell_type": "code",
   "execution_count": null,
   "metadata": {
    "collapsed": true
   },
   "outputs": [],
   "source": []
  },
  {
   "cell_type": "markdown",
   "metadata": {},
   "source": [
    "### 3. Standardize all entries for the athlete names by looping over the list and applying the funcion you create above.\n",
    "    A. First print a list of the athlete names by iterating over the objects in the list.\n",
    "    B. Now print a list of the athlete names by iterating over position in the list. \n",
    "    C. Now apply your function to these names by iterating over the position in the list. "
   ]
  },
  {
   "cell_type": "code",
   "execution_count": null,
   "metadata": {
    "collapsed": true
   },
   "outputs": [],
   "source": []
  },
  {
   "cell_type": "markdown",
   "metadata": {},
   "source": [
    "### 4. Standardize the rest of the entries by looping over the list and looping over the keys of each entry and apply your function to the values. \n",
    "    A. Loop over the position in the list and then loop over each dictionary at that position to apply your function.\n",
    "    B. Print out the cleaned list of dictionaries."
   ]
  },
  {
   "cell_type": "code",
   "execution_count": null,
   "metadata": {
    "collapsed": true
   },
   "outputs": [],
   "source": []
  }
 ],
 "metadata": {
  "anaconda-cloud": {},
  "kernelspec": {
   "display_name": "Python [Root]",
   "language": "python",
   "name": "Python [Root]"
  },
  "language_info": {
   "codemirror_mode": {
    "name": "ipython",
    "version": 3
   },
   "file_extension": ".py",
   "mimetype": "text/x-python",
   "name": "python",
   "nbconvert_exporter": "python",
   "pygments_lexer": "ipython3",
   "version": "3.5.1"
  }
 },
 "nbformat": 4,
 "nbformat_minor": 0
}
